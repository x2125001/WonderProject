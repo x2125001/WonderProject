{
 "cells": [
  {
   "cell_type": "code",
   "execution_count": null,
   "metadata": {},
   "outputs": [],
   "source": [
    "\n",
    "import pandas as pd \n",
    "from sklearn.metrics import r2_score\n",
    "import re\n",
    "import math\n",
    "from nltk.stem.snowball import SnowballStemmer\n",
    "import nltk\n",
    "import  matplotlib.pyplot as plt\n",
    "from nltk.corpus import stopwords\n",
    "import seaborn as sns; sns.set()\n",
    "stop_words=set(stopwords.words('english'))\n",
    "stop_words.add('none')\n",
    "stemmer = SnowballStemmer(\"english\")\n",
    "data=pd.read_csv(r'C:\\Users\\x2125\\Desktop\\full.csv')\n",
    "data=data.drop(columns=['rewards'])\n",
    "data=data.dropna(subset=['reward'])\n",
    "data[['reward']].describe()\n",
    "data['reward'].hist()\n",
    "import statsmodels.api as sm\n",
    "import statsmodels.formula.api as smf\n",
    "from statsmodels.tools.sm_exceptions import ConvergenceWarning"
   ]
  },
  {
   "cell_type": "code",
   "execution_count": 117,
   "metadata": {},
   "outputs": [
    {
     "data": {
      "text/plain": [
       "Index(['reward', 'id', 'name', 'description', 'dao', 'creat', 'creator',\n",
       "       'audit_log', 'due_date', 'assignees', 'priority', 'status', 'tags',\n",
       "       'review', 'done', 'comments', 'subtasks'],\n",
       "      dtype='object')"
      ]
     },
     "execution_count": 117,
     "metadata": {},
     "output_type": "execute_result"
    }
   ],
   "source": [
    "data.columns"
   ]
  },
  {
   "cell_type": "code",
   "execution_count": 151,
   "metadata": {},
   "outputs": [
    {
     "name": "stdout",
     "output_type": "stream",
     "text": [
      "             Mixed Linear Model Regression Results\n",
      "===============================================================\n",
      "Model:              MixedLM   Dependent Variable:   reward     \n",
      "No. Observations:   6886      Method:               REML       \n",
      "No. Groups:         257       Scale:                46078.1955 \n",
      "Min. group size:    1         Log-Likelihood:       -47219.9645\n",
      "Max. group size:    666       Converged:            Yes        \n",
      "Mean group size:    26.8                                       \n",
      "---------------------------------------------------------------\n",
      "                   Coef.    Std.Err.   z   P>|z| [0.025  0.975]\n",
      "---------------------------------------------------------------\n",
      "Intercept           146.164   31.044 4.708 0.000 85.319 207.009\n",
      "priority              7.682    3.866 1.987 0.047  0.104  15.259\n",
      "status                9.750    8.371 1.165 0.244 -6.656  26.157\n",
      "time_to_due_date      0.000    0.000 2.726 0.006  0.000   0.000\n",
      "Group Var        223150.738  102.112                           \n",
      "===============================================================\n",
      "\n"
     ]
    }
   ],
   "source": [
    "import statsmodels.api as sm\n",
    "import statsmodels.formula.api as smf\n",
    "\n",
    "# build the linear efffect model\n",
    "md = smf.mixedlm(\"reward ~ priority+status+time_to_due_date\", data, groups=data[\"dao\"])\n",
    "mdf = md.fit()\n",
    "print(mdf.summary())"
   ]
  },
  {
   "cell_type": "code",
   "execution_count": 146,
   "metadata": {},
   "outputs": [],
   "source": [
    "def code_to_integers(column):\n",
    "          unique_levels=data[column].unique().tolist()\n",
    "          dic={k:v for (v,k) in list(zip(range(len(unique_levels)),unique_levels))}\n",
    "          print(dic)\n",
    "          data[column]=data[column].apply(lambda x: dic[x])"
   ]
  },
  {
   "cell_type": "code",
   "execution_count": 147,
   "metadata": {},
   "outputs": [
    {
     "name": "stdout",
     "output_type": "stream",
     "text": [
      "{'NONE': 0, 'HIGH': 1, 'MEDIUM': 2, 'URGENT': 3, 'LOW': 4}\n"
     ]
    }
   ],
   "source": [
    "code_to_integers('priority')\n"
   ]
  },
  {
   "cell_type": "code",
   "execution_count": 148,
   "metadata": {},
   "outputs": [
    {
     "name": "stdout",
     "output_type": "stream",
     "text": [
      "{'DONE': 0, 'TODO': 1, 'IN_REVIEW': 2}\n",
      "{'dework': 0, 'all for climate dao': 1, 'dia dao': 2, 'paladin dao': 3, 'yoshi.exchange': 4, 'factorydao': 5, 'cere network': 6, 'lighthouse.world': 7, 'web3 marketing': 8, 'schnoodle đao': 9, 'stargate finance': 10, 'pagedao': 11, 'nil': 12, 'metahug dao': 13, 'harmoniesdao': 14, 'gravity dao': 15, 'charged particles': 16, 'paragons dao': 17, 'adventure networks': 18, 'dmeter': 19, 'bankless.se': 20, 'dune': 21, \"próspera city-builders' network\": 22, 'aragon network dao': 23, 'thedbc': 24, 'checkoutdao': 25, 'fractional finance': 26, 'citydao': 27, 'peaq network': 28, 'cartography - bdao': 29, 'stablenode': 30, 'equilib': 31, 'crypto sapiens': 32, 'sarcophagus community task boards': 33, 'y33t by daohaus': 34, 'paydece': 35, 'ξlimu dao': 36, 'citadao': 37, 'nation3': 38, 'itheum': 39, 'proof of webdev': 40, 'banklessdao website': 41, 'umoja protocol': 42, 'banklessdao | marketing department': 43, 'new south africa': 44, 'apollo crypto dao': 45, 'zetachain': 46, 'researchhub foundation': 47, 'metaguild': 48, 'naika': 49, 'comms t.e.a.m. dao': 50, 'biconomy': 51, 'liminaldao': 52, 'moondao': 53, 'ssv.network': 54, 'graph advocatesdao': 55, 'planckerdao': 56, 'bcgh - cryptoeconomic team': 57, 'unido': 58, 'm3': 59, 'furlough': 60, 'onedao': 61, 'daosquare': 62, 'metafactory': 63, 'vefunder': 64, 'masq network': 65, 'pythia': 66, 'fluus': 67, 'fight club': 68, 'superfluid': 69, 'blergdao': 70, 'eth sd': 71, 'swix dao': 72, 'meta-builders': 73, 'lightitupdao': 74, 'zcloak': 75, 'pooltogether': 76, 'the citycoiner': 77, 'new order': 78, 'knn3 builder program': 79, 'altverse': 80, 'mew protocol': 81, 'geo web': 82, 'dimo': 83, 'poapathon': 84, 'neon buidl': 85, 'peopledao': 86, 'webaverse mmo': 87, 'cannabis genome dao': 88, 'deu dao': 89, 'bounty board': 90, 'learning ecosystem': 91, 'polywrap dao': 92, 'languagedao': 93, 'layerzero': 94, 'creative organization dao llc': 95, 'shapeshift dao bounties': 96, 'idriss': 97, 'guild.xyz': 98, 'polyientx': 99, '雪茄老宝贝俱乐部cigar old baby club': 100, 'dua': 101, 'next.id': 102, 'sandlot sloths': 103, 'metokens': 104, 'carabela': 105, 'treasure': 106, 'dappos': 107, 'urbánika': 108, 'raidguild': 109, 'kromatika dao': 110, 'stakewise': 111, 'ndc community work group': 112, 'krause house': 113, 'boot finance dao': 114, 'arrow': 115, 'the product house': 116, \"dao'n'frens\": 117, 'nutbox dao': 118, 'bitscrunch': 119, 'vitadao': 120, 'pangeadao': 121, '3amclub': 122, 'yax': 123, 'krebit': 124, 'editora konkin': 125, 'metaverse advertisement dao': 126, 'banklesscndao': 127, 'gysr': 128, 'friends of pooly': 129, 'cryptex finance': 130, 'euroe': 131, 'alluo': 132, 'beans': 133, 'crypto good': 134, 'translators guild - banklessdao': 135, 'cyberconnect': 136, 'molecule': 137, 'h.e.r dao': 138, 'lexdao': 139, 'pubdao': 140, 'daohq': 141, 'metagame': 142, 'cryptolingodao': 143, 'redacted cartel': 144, 'logos dao': 145, 'proxifydao': 146, 'popcorndao': 147, 'ftw dao': 148, 'domaindao': 149, 'blocksocdao': 150, '1hive': 151, 'klimadao': 152, 'dao masters': 153, 'magus': 154, 'meet with wallet': 155, 'desci labs': 156, 'decent': 157, 'matrixdao': 158, 'ribon protocol': 159, 'candle dao': 160, 'cohere': 161, 'zenon': 162, 'zechub dao': 163, 'greenpill 中文社区': 164, 'build_republic': 165, 'primedao': 166, 'athenadao': 167, 'labdao': 168, 'design guild': 169, 'darwinia community dao': 170, 'dxdao': 171, 'avalanche': 172, 'the opendao': 173, 'encentive  dao': 174, '(3,3)dao': 175, 'community builders network': 176, 'magickml': 177, 'genesis library': 178, 'bankless south asia dao': 179, 'bnb chain': 180, 'bankless daolators': 181, 'buckets': 182, 'request network': 183, 'khalon bridge': 184, '0xpolygon dao': 185, 'shiny object social club': 186, 'giveth': 187, 'lenster': 188, 'harmony community dao': 189, 'golden quest by golden inu': 190, 'metamundo': 191, '𝘼𝙉 🎙𝙀𝙉𝙏𝙍𝙔𝙋❍𝙄𝙉𝙏': 192, 'nonce': 193, 'apwine dao': 194, 'kingdata': 195, 'mstable': 196, 'talent protocol': 197, 'dealdex': 198, 'realtok dao': 199, 'bbl dao': 200, 'hyperfy': 201, 'pm dao': 202, 'gro dao': 203, 'dentaverse dao team': 204, 'radiant capital': 205, 'mcdao': 206, 'reflexer dao': 207, 'archidao': 208, 'k.group dao': 209, 'tampa bay dao': 210, 'leaguedao': 211, 'bridge builders dao': 212, 'valleydao': 213, 'lighthouse': 214, 'catalandao': 215, 'penndao': 216, 'futurex': 217, 'skatehive': 218, 'media nup dao': 219, 'b labs': 220, 'educadao': 221, 'stackup': 222, 'descier': 223, 'pwn': 224, 'mazury': 225, 'fluidity money': 226, 'plankcer gamefi dao': 227, 'ai network': 228, '0xrisk': 229, 'premia': 230, 'tusimadao': 231, 'alpha drops': 232, 'the unstable lab dao': 233, 'meleora': 234, 'ethbrno²': 235, 'tilata': 236, 'smock': 237, 'omi group': 238, 'conflux network': 239, 'arbitrum (dune bounties)': 240, 'tasukeai': 241, 'neurohue': 242, 'zenlaunch': 243, 'starport dao': 244, 'ip3': 245, 'myeo-web3': 246, 'yolorekt': 247, 'chaotic good dao': 248, 'dv dao pilot': 249, 'drog group': 250, 'welook': 251, 'blank genesis dao': 252, 'stacks gov lab': 253, 'ogc': 254, 'blackpool finance': 255, 'echelon prime foundation': 256}\n",
      "{'jala': 0, 'PôpLine': 1, 'DeFiniTed': 2, 'Miaki': 3, 'Anze I DIA': 4, 'LIzzl | 🗳² dataDAO': 5, 'Cere Network Official': 6, 'felixdigit.eth': 7, 'WilliamR': 8, 'Neo': 9, 'Tangle': 10, 'epicdylan | PageDAO': 11, 'xdamman': 12, 'TRHX': 13, 'Liannpham': 14, '--₮ØӾł₵₣ł₵₳₮łØ₦--': 15, 'ZeptimusQ': 16, 'Steve | Charged Particles': 17, 'flapjackson': 18, 'mhoydich': 19, 'sev': 20, 'wagmit.eth': 21, '0xBoxer': 22, 'globaller': 23, 'Cdogg': 24, 'DaniB': 25, 'zenBastian2': 26, 'zeryx🪡': 27, 'Tuncay': 28, 'Javier': 29, 'anointingthompson1': 30, 'weza': 31, 'Parrachia': 32, 'SaniyaMalhotra15': 33, 'infintehomie.eth': 34, 'Spectra CryptoVerse': 35, 'lee0007': 36, 'Da3vid': 37, 'Afoil': 38, 'Ξ2T': 39, 'elchanguito.eth': 40, 'Nya Ξlimu': 41, 'bellaciao': 42, 'Yofi A. #4816': 43, 'Aahna Ashina': 44, 'Zain | Itheum': 45, 'CD | Vagobond.cent.co': 46, 'tippi fifestarr': 47, 'MantisClone': 48, 'fiyin-40620': 49, 'Mr. V 🏴': 50, 'irishy': 51, 'ApolloTed': 52, 'Tim Haldorsson': 53, 'DAOist_JC': 54, 'Riccardo Goldoni': 55, 'egor': 56, 'Farbod': 57, 'jp': 58, 'AnaTech': 59, 'aakansha': 60, 'Jeremy&TheGospelOfChange': 61, 'luis': 62, 'Larrotiz': 63, 'EranE': 64, 'poptones': 65, 'fant': 66, 'Tien Diamante Luz': 67, 'lonis.eth': 68, 'bigsong': 69, 'Pete': 70, 'Diego_Unido': 71, 'Jeffrey Koury': 72, 'jin': 73, 'wingo-76541': 74, 'Giovanni': 75, 'peakey': 76, 'ChequerCat': 77, 'barukimang': 78, 'DeoBrands': 79, 'hsl195': 80, 'OrnellaWeb3': 81, 'fugyeah': 82, 'Nick R': 83, 'akrava5711': 84, 'Juana': 85, 'iSpeakNerd.eth 🏴': 86, 'vikiii': 87, 'Anastasiya_Belyaeva': 88, 'Amirali': 89, 'tomjohn | Blergs': 90, 'gmchad': 91, 'Swix Bob': 92, 'Bloomz': 93, 'Anukriti': 94, 'Adrienne | DAO Lead @Biconomy': 95, 'Wraithers': 96, '0xjacky.eth': 97, 'Tjark 🌊🏆': 98, 'diegomey': 99, 'greenbergz': 100, 'BiggerKing.eth': 101, 'Musashi13': 102, 'checkoutDAO': 103, 'Carla78': 104, 'Jesse_alt': 105, 'anson': 106, 'akadonnydonowitz': 107, '0xGallego': 108, 'Mew Protocol': 109, 'graven': 110, 'Escanor': 111, 'AhinoK': 112, 'ShaolinFunktastic': 113, 'jackP': 114, 'bartosjiri ⚡': 115, 'Github Integration': 116, 'Missalot': 117, 'Mikel': 118, 'antonis': 119, 'luffy54-43277': 120, 'flowscience': 121, 'enti': 122, 'de-univ.eth': 123, 'gabbie': 124, 'Jadi': 125, 'Juankbell': 126, 'Alejandro|Paladin': 127, 'Tomo (🛡,🛡)': 128, 'Maria.g': 129, 'STEAM PROJECT': 130, 'Media': 131, 'DAOvolution': 132, 'zerohash': 133, 'Mount Manu': 134, 'g2entgroup': 135, 'MatterTurbulent1': 136, 'koH': 137, 'chance': 138, 'MBMaria': 139, 'geoist | IDriss.xyz': 140, 'k0ba': 141, 'Tap': 142, '带道大叔-86227': 143, 'The Architect': 144, 'BennyTheBacon': 145, 'JohnnyBaseball': 146, 'cbob.eth': 147, 'dao-academy.eth': 148, 'xvlad': 149, 'scottfits': 150, 'Astrololo': 151, 'Maxwell': 152, 'YaninaKüber': 153, 'ifun': 154, 'HBesso31🐙': 155, 'Ryan_Unido': 156, 'Wraithers Dework': 157, 'Chiali': 158, 'kori': 159, 'niklasanzinger': 160, 'Ar': 161, 'Starny': 162, 'MrFliphard': 163, 'brianchilders': 164, 'Laurence L': 165, 'Eclipse': 166, 'Greg Foley': 167, 'Dluxe': 168, 'LΞM🍋N': 169, 'Sabretooth': 170, 'Charlo': 171, 'Owlot': 172, 'Saurav': 173, 'shawnzywonzie': 174, 'Sunny Jaycer': 175, 'Ian Yin': 176, 'shreee': 177, 'Alex Dobrin': 178, 'cato': 179, '3amclub.eth': 180, 'benlakoff.eth': 181, 'Eren Targ🏴': 182, 'DePaul ': 183, 'krebit': 184, 'vincentweisser': 185, 'Daniel Miorim': 186, 'eurekajohn.eth': 187, 'barry-58605': 188, 'Mercury': 189, '183Aaros': 190, 'jebbathehut': 191, 'McOso': 192, 'shahar': 193, 'juicy': 194, '0xtuytuy': 195, 'm00n-68364': 196, 'Igor MD': 197, 'DrPillow': 198, 'imsulei.eth': 199, 'cryptodad🏴': 200, 'DisplayDD': 201, 'lyons800': 202, 'Ryuzaki': 203, 'beastadon': 204, 'Typto': 205, 'DRD': 206, 'ribbs.eth': 207, 'Casey': 208, 'reeves': 209, 'pikachu': 210, 'arjan': 211, 'Aidan': 212, 'greg_': 213, 'Lupei': 214, 'zgugz.eth': 215, 'alexthims': 216, 'Syntonikka.eth': 217, 'Philipp | DIA': 218, 'diadata-tech': 219, 'Zygis': 220, 'carandro505': 221, 'Dekan': 222, 'Paikus': 223, 'johan von bronx': 224, 'chuygarcia': 225, 'FMurphy': 226, 'lion917': 227, 'Brént': 228, 'ricktik6': 229, 'Sandro': 230, 'Ballack(🌜,🌛)': 231, 'David_EoTLabs': 232, 'super.jellie': 233, 'pmoncada': 234, 'Crown🏴': 235, 'Oluwasijibomi-56848': 236, 'Oluwasijibomi': 237, 'Son07': 238, 'Contentooo': 239, 'intlcapitalist🏴 | BanklessDAO': 240, 'sandeepdas-35444': 241, 'Chameleon': 242, 'Kevin Li': 243, 'Kevin || CyberConnect': 244, 'Chris | Frogs Anon': 245, 'deworker1507': 246, 'AMBERZ.S': 247, '0xMechel': 248, 'faevy': 249, 'chidi': 250, 'kames': 251, 'Brendan 🌊🏆': 252, 'Harper': 253, 'heintess': 254, 'Sherbert': 255, 'Lych': 256, 'ross': 257, 'reza': 258, 'Clinamenic': 259, 'ryantheprotean': 260, '0xCChan': 261, 'Thilo Witting': 262, 'Johannes Weniger': 263, 'Erin': 264, 'haipi': 265, 'UNDAO': 266, 'Emily': 267, 'chrislee0033': 268, 'lolboysg': 269, 'MarioRozo': 270, 'ilk': 271, 'kschonscho': 272, 'Alec': 273, 'jaycee': 274, 'EFRA': 275, 'Tyler D.': 276, 'theory_gang': 277, 'joycesticks': 278, 'RG_Test': 279, 'NF Thinker🏴': 280, 'fi_bo': 281, 'sente': 282, 'MattGunnin': 283, 'ng': 284, 'BOBOtoTHEmoon🚀👑': 285, 'Droste 🏴': 286, 'Abstrucked': 287, 'acidlazzer': 288, 'casale.eth': 289, 'angieberry.eth': 290, 'jo-elimu': 291, 'deeparocks': 292, 'DAOFREN': 293, 'xivanc.eth': 294, 'milfdad.eth': 295, 'Drew Harding': 296, 'METADREAMER': 297, 'M Lo': 298, 'smartdigitalpayments': 299, 'boosh0x': 300, '0xslam': 301, 'rachelw': 302, 'hamzat_iii': 303, 'alec': 304, 'jcrew': 305, 'InfoAddict': 306, 'Jamie Ford (KryptKid)': 307, 'ftwdao.eth': 308, 'manuets': 309, 'Greg R. Fishbone': 310, 'juliannaMLN': 311, 'jobless | DomainDAO': 312, 'christinamills.eth': 313, 'Kyle.LaRue.1776': 314, 'lorena': 315, 'PaulieB': 316, 'Derek | Data Nexus': 317, 'Swix Jedi': 318, 'Joey N': 319, 'emma-xrug': 320, 'jprinc88': 321, 'jasminlus': 322, 'desertrat |  JournoDAO': 323, 'Leen': 324, 'ColmOR': 325, 'Scubasteve': 326, 'Moby': 327, 'TN | Altverse': 328, 'kamilalip': 329, 'Tempest': 330, 'karel': 331, 'Gossman1': 332, 'paul2': 333, 'Onyxmony | UTC +8': 334, 'Marcus Aurelius': 335, 'livlarocca': 336, 'ryan': 337, 'Latsan': 338, 'EriDAO': 339, 'yusufxzy-76710': 340, 'Broke.Smol | Magus | LifeDAO': 341, 'Aedifex.eth | Joseph': 342, '9tails.eth': 343, 'handsome bubblegum sheep': 344, 'Taliskye': 345, 'jringo_': 346, 'DeSci Labs': 347, 'shivam7064': 348, 'sd10007173': 349, 'moriah': 350, 'N1cklas.eth': 351, 'Amanda Sousa': 352, 'Gisa': 353, 'Jomo': 354, 'Vasconsa': 355, 'vito': 356, 'Tagesam0x': 357, 'l1am': 358, 'marcvs': 359, 'angelo': 360, 'rawitz': 361, 'tokidoki': 362, 'wonder': 363, 'zik': 364, 'Muna': 365, 'Lavi1': 366, 'Salomé': 367, 'isss111': 368, 'Jasu': 369, 'deworker365': 370, 'Cindy Tan-71643': 371, 'crocodile': 372, 'Ctmir | KROM contributor': 373, 'Anne377': 374, 'alerios': 375, 'Nathan': 376, 'Sky': 377, 'angyts.eth 🇸🇬🏴💣🆘': 378, 'A.M. Smith': 379, 'dΞΞtoo (hΞ/him)': 380, 'Felipe BM': 381, 'sissi': 382, 'vataj': 383, 'Parzival': 384, 'hegemony': 385, 'Ursa Major': 386, 'dreamburrito': 387, 'raybankless.eth 🏴': 388, 'Sardius': 389, 'BonzoB!3-76593': 390, 'kbc': 391, 'cleyfe.eth 🇨🇭': 392, 'umarmh': 393, 'Matz': 394, 'Kouros': 395, 'lazy_panda': 396, 'tommyolofsson': 397, 'Grendel': 398, 'Morisen': 399, 'JohnChan.eth': 400, 'scottdavidmeyer': 401, 'Robert [ssv.network|Bloxstaking]': 402, 'SuperPat': 403, 'divine_comedian': 404, 'WormholeOracle': 405, 'HIGHERHIGH|PETREX': 406, 'yoginth.lens': 407, 'ben2k_Stakeridoo': 408, '3tc': 409, 'Antonio┃MetaMundo': 410, 'skuhl': 411, 'woodmurderedhat': 412, 'sujin-keen': 413, 'dydymoon.eth': 414, 'dydymoon.sismo.eth': 415, 'Aire': 416, 'Randall-16323': 417, 'Balvina': 418, 'trustindistrust.eth': 419, 'Artur Rodrigues': 420, 'knn3.eth': 421, 'karnik': 422, 'Matias Wepfer': 423, 'bblucky.eth': 424, 'ayanb.eth': 425, 'philbert': 426, 'Ash-71670': 427, 'PM DAO Official': 428, 'kndlexi': 429, 'dentaverse.eth': 430, '0xKonstantin': 431, 'liamharris': 432, 'mcdao': 433, 'llano will': 434, 'Adam French': 435, 'athenaprotocol.eth': 436, 'Mayur Mistry': 437, 'OlaPhysix': 438, 'Germany': 439, 'Benji | LeagueDAO': 440, 'hoangla.eth': 441, 'Hamza.': 442, 'potrok': 443, 'Ferran': 444, 'Something Something': 445, 'dtybest': 446, 'sasakill.eth': 447, 'Bananachain': 448, 'CariocaNFT': 449, 'suzaku': 450, 'Maria-Goreti-Freitas': 451, 'Petra I PWN': 452, 'mazury.eth': 453, 'bayge': 454, 'cliffzhp': 455, 'BSebastian': 456, 'Alex Core': 457, 'DK': 458, 'memelabs': 459, 'Aram': 460, 'deltatiger.eth': 461, 'meetmydevils': 462, 'santi': 463, 'santitestnet': 464, 'tree': 465, 'TILATA-65709': 466, '0xGorilla': 467, 'wei3erHase': 468, 'Mr.Diamond': 469, '若気の至りは逍遥に尽き': 470, 'wondrtrip': 471, 'FireKing': 472, 'Jay': 473, 'Justin': 474, 'orgiast-seisaku': 475, 'ecolibriums': 476, 'love2bluff': 477, 'Jason-93699': 478, 'Ruurd': 479, 'pistacchio.lens': 480, 'Metalogist': 481, 'merrick': 482, 'hz': 483, 'Kohei Kanamal': 484, 'youngfrederick.eth': 485, 'metaregular': 486, 'CarlB': 487, 'emil': 488, 'gdbroman': 489}\n"
     ]
    }
   ],
   "source": [
    "code_to_integers('status')\n",
    "code_to_integers('dao')\n",
    "code_to_integers('creator')"
   ]
  },
  {
   "cell_type": "code",
   "execution_count": 149,
   "metadata": {},
   "outputs": [],
   "source": [
    "data.to_csv('data.csv')"
   ]
  },
  {
   "cell_type": "code",
   "execution_count": null,
   "metadata": {},
   "outputs": [],
   "source": [
    "performance = pd.DataFrame()\n",
    "performance[\"residuals\"] = mdf.resid.values\n",
    "performance[\"priority\"] = data.priority\n",
    "performance[\"predicted\"] = mdf.fittedvalues\n",
    "\n",
    "sns.lmplot(x = \"predicted\", y = \"residuals\", data = performance)"
   ]
  },
  {
   "cell_type": "code",
   "execution_count": null,
   "metadata": {},
   "outputs": [],
   "source": [
    "data=data[data['reward']>0]\n",
    "#data=data.drop(columns=[''])\n",
    "fig, axis=plt.subplots(nrows=1,ncols=2)\n",
    "data['reward'].hist(ax=axis[0])\n",
    "data['log_reward']=data['reward'].apply(lambda x:math.log(x))\n",
    "data['log_reward'].hist(ax=axis[1])"
   ]
  },
  {
   "cell_type": "code",
   "execution_count": null,
   "metadata": {},
   "outputs": [],
   "source": [
    "data.isna().sum()\n",
    "data.info()\n",
    "data=data[data['status'].isin(['DONE','TODO','IN_REVIEW','IN_PROGESS'])]\n",
    "data['due_date']=data['due_date'].transform(lambda x:'2024-01-01' if x=='None' else x)\n",
    "#remove punctuations\n",
    "data['name']=data['name'].str.lower().str.replace('[^\\w\\s]','')\n",
    "data['description']=data['description'].apply(lambda x:re.sub('[^A-Za-z0-9]+',' ', str(x))).str.lower().str.split()\n",
    "data['stemmed_description'] =data['description'].apply(lambda x: [i  for i in x if i.lower() not in stop_words])\n",
    "data['stemmed_description'] =data['stemmed_description'].apply(lambda x: [stemmer.stem(y) for y in x])\n"
   ]
  },
  {
   "cell_type": "code",
   "execution_count": 120,
   "metadata": {},
   "outputs": [],
   "source": [
    "data['stemmed_description']=data['stemmed_description'].apply(lambda x:' '.join(x))\n",
    "data=data.drop(['description'],axis=1)\n"
   ]
  },
  {
   "cell_type": "code",
   "execution_count": 121,
   "metadata": {},
   "outputs": [
    {
     "data": {
      "text/plain": [
       "Index(['reward', 'id', 'name', 'dao', 'creat', 'creator', 'audit_log',\n",
       "       'due_date', 'assignees', 'priority', 'status', 'tags', 'review', 'done',\n",
       "       'comments', 'subtasks', 'log_reward', 'stemmed_description'],\n",
       "      dtype='object')"
      ]
     },
     "execution_count": 121,
     "metadata": {},
     "output_type": "execute_result"
    }
   ],
   "source": [
    "data.columns"
   ]
  },
  {
   "cell_type": "code",
   "execution_count": 71,
   "metadata": {},
   "outputs": [
    {
     "data": {
      "text/plain": [
       "<Axes: xlabel='creat', ylabel='reward'>"
      ]
     },
     "execution_count": 71,
     "metadata": {},
     "output_type": "execute_result"
    },
    {
     "data": {
      "image/png": "[encoded data removed]",
      "text/plain": [
       "<Figure size 640x480 with 1 Axes>"
      ]
     },
     "metadata": {},
     "output_type": "display_data"
    },
    {
     "data": {
      "image/png": "[encoded data removed]",
      "text/plain": [
       "<Figure size 640x480 with 1 Axes>"
      ]
     },
     "metadata": {},
     "output_type": "display_data"
    },
    {
     "data": {
      "image/png": "[encoded data removed]",
      "text/plain": [
       "<Figure size 640x480 with 1 Axes>"
      ]
     },
     "metadata": {},
     "output_type": "display_data"
    }
   ],
   "source": [
    "data.plot.box(column='reward',by='status')\n",
    "data.plot.box(column='reward',by='priority')\n",
    "data.plot.scatter(x='creat',y='reward')"
   ]
  },
  {
   "cell_type": "code",
   "execution_count": 122,
   "metadata": {},
   "outputs": [],
   "source": [
    "data['creat']=data['creat'].transform(lambda x:x[:10])\n",
    "data['due_date']=data['due_date'].transform(lambda x:x[:10])\n",
    "data['creat']=data['creat'].transform(lambda x:pd.to_datetime(x) if x !='None' else x)\n",
    "data['due_date']=data['due_date'].transform(lambda x:pd.to_datetime(x))\n",
    "data['due_date']=data['due_date'].dt.normalize()\n",
    "data['time_to_due_date']=data['due_date']-data['creat']\n",
    "data['time_to_due_date']=pd.to_numeric(data['time_to_due_date'])\n",
    "data=data[data['time_to_due_date']>0]\n",
    "data.to_csv('data.csv')"
   ]
  },
  {
   "cell_type": "code",
   "execution_count": 155,
   "metadata": {},
   "outputs": [],
   "source": [
    "from sklearn.ensemble import GradientBoostingRegressor\n",
    "reg = GradientBoostingRegressor(random_state=0)"
   ]
  },
  {
   "cell_type": "code",
   "execution_count": 152,
   "metadata": {},
   "outputs": [
    {
     "data": {
      "text/plain": [
       "6          691200000000000\n",
       "28       51321600000000000\n",
       "45         432000000000000\n",
       "55         864000000000000\n",
       "70        3110400000000000\n",
       "               ...        \n",
       "35823    59443200000000000\n",
       "35838    59702400000000000\n",
       "35846    59875200000000000\n",
       "35901     4406400000000000\n",
       "35976    63936000000000000\n",
       "Name: time_to_due_date, Length: 6886, dtype: int64"
      ]
     },
     "execution_count": 152,
     "metadata": {},
     "output_type": "execute_result"
    }
   ],
   "source": [
    "data['time_to_due_date']"
   ]
  },
  {
   "cell_type": "code",
   "execution_count": 153,
   "metadata": {},
   "outputs": [],
   "source": [
    "from sklearn.preprocessing import OneHotEncoder\n",
    "from sklearn.preprocessing import StandardScaler\n",
    "from sklearn.model_selection import train_test_split\n",
    "from sklearn.compose import ColumnTransformer\n",
    "from sklearn.ensemble import RandomForestRegressor\n",
    "target=data[['reward']]\n",
    "variables=data.drop(columns=['reward'])\n",
    "X_train,X_test,y_train,y_test=train_test_split(variables,target)"
   ]
  },
  {
   "cell_type": "code",
   "execution_count": 79,
   "metadata": {},
   "outputs": [],
   "source": [
    "preprocessor=ColumnTransformer([('drop_columns','drop',['id','audit_log','subtasks','stemmed_description','tags','review','comments','name']),('OneHot',OneHotEncoder(handle_unknown='ignore'),['creator','dao','priority','status','assignees']),('StandardScalar',StandardScaler(),['time_to_due_date'])])"
   ]
  },
  {
   "cell_type": "code",
   "execution_count": 106,
   "metadata": {},
   "outputs": [],
   "source": [
    "from sklearn.metrics import mean_squared_error\n",
    "from sklearn.pipeline import Pipeline\n",
    "from sklearn.linear_model import LinearRegression\n",
    "from sklearn.model_selection import GridSearchCV\n",
    "clf = Pipeline(\n",
    "    steps=[(\"preprocessor\", preprocessor),('classifier',RandomForestRegressor(n_estimators=1000, max_depth=100,verbose=1))])"
   ]
  },
  {
   "cell_type": "code",
   "execution_count": 171,
   "metadata": {},
   "outputs": [],
   "source": [
    "clf=Pipeline(steps=[(\"preprocessor\", preprocessor),('regressor',GradientBoostingRegressor(random_state=0,learning_rate=0.01,n_estimators=1000,max_depth=100))])"
   ]
  },
  {
   "cell_type": "code",
   "execution_count": 172,
   "metadata": {},
   "outputs": [
    {
     "name": "stderr",
     "output_type": "stream",
     "text": [
      "c:\\Users\\x2125\\anaconda3\\lib\\site-packages\\sklearn\\ensemble\\_gb.py:437: DataConversionWarning: A column-vector y was passed when a 1d array was expected. Please change the shape of y to (n_samples, ), for example using ravel().\n",
      "  y = column_or_1d(y, warn=True)\n"
     ]
    },
    {
     "data": {
      "text/html": [
       "<style>#sk-container-id-9 {color: black;background-color: white;}#sk-container-id-9 pre{padding: 0;}#sk-container-id-9 div.sk-toggleable {background-color: white;}#sk-container-id-9 label.sk-toggleable__label {cursor: pointer;display: block;width: 100%;margin-bottom: 0;padding: 0.3em;box-sizing: border-box;text-align: center;}#sk-container-id-9 label.sk-toggleable__label-arrow:before {content: \"▸\";float: left;margin-right: 0.25em;color: #696969;}#sk-container-id-9 label.sk-toggleable__label-arrow:hover:before {color: black;}#sk-container-id-9 div.sk-estimator:hover label.sk-toggleable__label-arrow:before {color: black;}#sk-container-id-9 div.sk-toggleable__content {max-height: 0;max-width: 0;overflow: hidden;text-align: left;background-color: #f0f8ff;}#sk-container-id-9 div.sk-toggleable__content pre {margin: 0.2em;color: black;border-radius: 0.25em;background-color: #f0f8ff;}#sk-container-id-9 input.sk-toggleable__control:checked~div.sk-toggleable__content {max-height: 200px;max-width: 100%;overflow: auto;}#sk-container-id-9 input.sk-toggleable__control:checked~label.sk-toggleable__label-arrow:before {content: \"▾\";}#sk-container-id-9 div.sk-estimator input.sk-toggleable__control:checked~label.sk-toggleable__label {background-color: #d4ebff;}#sk-container-id-9 div.sk-label input.sk-toggleable__control:checked~label.sk-toggleable__label {background-color: #d4ebff;}#sk-container-id-9 input.sk-hidden--visually {border: 0;clip: rect(1px 1px 1px 1px);clip: rect(1px, 1px, 1px, 1px);height: 1px;margin: -1px;overflow: hidden;padding: 0;position: absolute;width: 1px;}#sk-container-id-9 div.sk-estimator {font-family: monospace;background-color: #f0f8ff;border: 1px dotted black;border-radius: 0.25em;box-sizing: border-box;margin-bottom: 0.5em;}#sk-container-id-9 div.sk-estimator:hover {background-color: #d4ebff;}#sk-container-id-9 div.sk-parallel-item::after {content: \"\";width: 100%;border-bottom: 1px solid gray;flex-grow: 1;}#sk-container-id-9 div.sk-label:hover label.sk-toggleable__label {background-color: #d4ebff;}#sk-container-id-9 div.sk-serial::before {content: \"\";position: absolute;border-left: 1px solid gray;box-sizing: border-box;top: 0;bottom: 0;left: 50%;z-index: 0;}#sk-container-id-9 div.sk-serial {display: flex;flex-direction: column;align-items: center;background-color: white;padding-right: 0.2em;padding-left: 0.2em;position: relative;}#sk-container-id-9 div.sk-item {position: relative;z-index: 1;}#sk-container-id-9 div.sk-parallel {display: flex;align-items: stretch;justify-content: center;background-color: white;position: relative;}#sk-container-id-9 div.sk-item::before, #sk-container-id-9 div.sk-parallel-item::before {content: \"\";position: absolute;border-left: 1px solid gray;box-sizing: border-box;top: 0;bottom: 0;left: 50%;z-index: -1;}#sk-container-id-9 div.sk-parallel-item {display: flex;flex-direction: column;z-index: 1;position: relative;background-color: white;}#sk-container-id-9 div.sk-parallel-item:first-child::after {align-self: flex-end;width: 50%;}#sk-container-id-9 div.sk-parallel-item:last-child::after {align-self: flex-start;width: 50%;}#sk-container-id-9 div.sk-parallel-item:only-child::after {width: 0;}#sk-container-id-9 div.sk-dashed-wrapped {border: 1px dashed gray;margin: 0 0.4em 0.5em 0.4em;box-sizing: border-box;padding-bottom: 0.4em;background-color: white;}#sk-container-id-9 div.sk-label label {font-family: monospace;font-weight: bold;display: inline-block;line-height: 1.2em;}#sk-container-id-9 div.sk-label-container {text-align: center;}#sk-container-id-9 div.sk-container {/* jupyter's `normalize.less` sets `[hidden] { display: none; }` but bootstrap.min.css set `[hidden] { display: none !important; }` so we also need the `!important` here to be able to override the default hidden behavior on the sphinx rendered scikit-learn.org. See: https://github.com/scikit-learn/scikit-learn/issues/21755 */display: inline-block !important;position: relative;}#sk-container-id-9 div.sk-text-repr-fallback {display: none;}</style><div id=\"sk-container-id-9\" class=\"sk-top-container\"><div class=\"sk-text-repr-fallback\"><pre>Pipeline(steps=[(&#x27;preprocessor&#x27;,\n",
       "                 ColumnTransformer(transformers=[(&#x27;drop_columns&#x27;, &#x27;drop&#x27;,\n",
       "                                                  [&#x27;id&#x27;, &#x27;audit_log&#x27;,\n",
       "                                                   &#x27;subtasks&#x27;,\n",
       "                                                   &#x27;stemmed_description&#x27;,\n",
       "                                                   &#x27;tags&#x27;, &#x27;review&#x27;, &#x27;comments&#x27;,\n",
       "                                                   &#x27;name&#x27;]),\n",
       "                                                 (&#x27;OneHot&#x27;,\n",
       "                                                  OneHotEncoder(handle_unknown=&#x27;ignore&#x27;),\n",
       "                                                  [&#x27;creator&#x27;, &#x27;dao&#x27;, &#x27;priority&#x27;,\n",
       "                                                   &#x27;status&#x27;, &#x27;assignees&#x27;]),\n",
       "                                                 (&#x27;StandardScalar&#x27;,\n",
       "                                                  StandardScaler(),\n",
       "                                                  [&#x27;time_to_due_date&#x27;])])),\n",
       "                (&#x27;regressor&#x27;,\n",
       "                 GradientBoostingRegressor(learning_rate=0.01, max_depth=100,\n",
       "                                           n_estimators=1000,\n",
       "                                           random_state=0))])</pre><b>In a Jupyter environment, please rerun this cell to show the HTML representation or trust the notebook. <br />On GitHub, the HTML representation is unable to render, please try loading this page with nbviewer.org.</b></div><div class=\"sk-container\" hidden><div class=\"sk-item sk-dashed-wrapped\"><div class=\"sk-label-container\"><div class=\"sk-label sk-toggleable\"><input class=\"sk-toggleable__control sk-hidden--visually\" id=\"sk-estimator-id-73\" type=\"checkbox\" ><label for=\"sk-estimator-id-73\" class=\"sk-toggleable__label sk-toggleable__label-arrow\">Pipeline</label><div class=\"sk-toggleable__content\"><pre>Pipeline(steps=[(&#x27;preprocessor&#x27;,\n",
       "                 ColumnTransformer(transformers=[(&#x27;drop_columns&#x27;, &#x27;drop&#x27;,\n",
       "                                                  [&#x27;id&#x27;, &#x27;audit_log&#x27;,\n",
       "                                                   &#x27;subtasks&#x27;,\n",
       "                                                   &#x27;stemmed_description&#x27;,\n",
       "                                                   &#x27;tags&#x27;, &#x27;review&#x27;, &#x27;comments&#x27;,\n",
       "                                                   &#x27;name&#x27;]),\n",
       "                                                 (&#x27;OneHot&#x27;,\n",
       "                                                  OneHotEncoder(handle_unknown=&#x27;ignore&#x27;),\n",
       "                                                  [&#x27;creator&#x27;, &#x27;dao&#x27;, &#x27;priority&#x27;,\n",
       "                                                   &#x27;status&#x27;, &#x27;assignees&#x27;]),\n",
       "                                                 (&#x27;StandardScalar&#x27;,\n",
       "                                                  StandardScaler(),\n",
       "                                                  [&#x27;time_to_due_date&#x27;])])),\n",
       "                (&#x27;regressor&#x27;,\n",
       "                 GradientBoostingRegressor(learning_rate=0.01, max_depth=100,\n",
       "                                           n_estimators=1000,\n",
       "                                           random_state=0))])</pre></div></div></div><div class=\"sk-serial\"><div class=\"sk-item sk-dashed-wrapped\"><div class=\"sk-label-container\"><div class=\"sk-label sk-toggleable\"><input class=\"sk-toggleable__control sk-hidden--visually\" id=\"sk-estimator-id-74\" type=\"checkbox\" ><label for=\"sk-estimator-id-74\" class=\"sk-toggleable__label sk-toggleable__label-arrow\">preprocessor: ColumnTransformer</label><div class=\"sk-toggleable__content\"><pre>ColumnTransformer(transformers=[(&#x27;drop_columns&#x27;, &#x27;drop&#x27;,\n",
       "                                 [&#x27;id&#x27;, &#x27;audit_log&#x27;, &#x27;subtasks&#x27;,\n",
       "                                  &#x27;stemmed_description&#x27;, &#x27;tags&#x27;, &#x27;review&#x27;,\n",
       "                                  &#x27;comments&#x27;, &#x27;name&#x27;]),\n",
       "                                (&#x27;OneHot&#x27;,\n",
       "                                 OneHotEncoder(handle_unknown=&#x27;ignore&#x27;),\n",
       "                                 [&#x27;creator&#x27;, &#x27;dao&#x27;, &#x27;priority&#x27;, &#x27;status&#x27;,\n",
       "                                  &#x27;assignees&#x27;]),\n",
       "                                (&#x27;StandardScalar&#x27;, StandardScaler(),\n",
       "                                 [&#x27;time_to_due_date&#x27;])])</pre></div></div></div><div class=\"sk-parallel\"><div class=\"sk-parallel-item\"><div class=\"sk-item\"><div class=\"sk-label-container\"><div class=\"sk-label sk-toggleable\"><input class=\"sk-toggleable__control sk-hidden--visually\" id=\"sk-estimator-id-75\" type=\"checkbox\" ><label for=\"sk-estimator-id-75\" class=\"sk-toggleable__label sk-toggleable__label-arrow\">drop_columns</label><div class=\"sk-toggleable__content\"><pre>[&#x27;id&#x27;, &#x27;audit_log&#x27;, &#x27;subtasks&#x27;, &#x27;stemmed_description&#x27;, &#x27;tags&#x27;, &#x27;review&#x27;, &#x27;comments&#x27;, &#x27;name&#x27;]</pre></div></div></div><div class=\"sk-serial\"><div class=\"sk-item\"><div class=\"sk-estimator sk-toggleable\"><input class=\"sk-toggleable__control sk-hidden--visually\" id=\"sk-estimator-id-76\" type=\"checkbox\" ><label for=\"sk-estimator-id-76\" class=\"sk-toggleable__label sk-toggleable__label-arrow\">drop</label><div class=\"sk-toggleable__content\"><pre>drop</pre></div></div></div></div></div></div><div class=\"sk-parallel-item\"><div class=\"sk-item\"><div class=\"sk-label-container\"><div class=\"sk-label sk-toggleable\"><input class=\"sk-toggleable__control sk-hidden--visually\" id=\"sk-estimator-id-77\" type=\"checkbox\" ><label for=\"sk-estimator-id-77\" class=\"sk-toggleable__label sk-toggleable__label-arrow\">OneHot</label><div class=\"sk-toggleable__content\"><pre>[&#x27;creator&#x27;, &#x27;dao&#x27;, &#x27;priority&#x27;, &#x27;status&#x27;, &#x27;assignees&#x27;]</pre></div></div></div><div class=\"sk-serial\"><div class=\"sk-item\"><div class=\"sk-estimator sk-toggleable\"><input class=\"sk-toggleable__control sk-hidden--visually\" id=\"sk-estimator-id-78\" type=\"checkbox\" ><label for=\"sk-estimator-id-78\" class=\"sk-toggleable__label sk-toggleable__label-arrow\">OneHotEncoder</label><div class=\"sk-toggleable__content\"><pre>OneHotEncoder(handle_unknown=&#x27;ignore&#x27;)</pre></div></div></div></div></div></div><div class=\"sk-parallel-item\"><div class=\"sk-item\"><div class=\"sk-label-container\"><div class=\"sk-label sk-toggleable\"><input class=\"sk-toggleable__control sk-hidden--visually\" id=\"sk-estimator-id-79\" type=\"checkbox\" ><label for=\"sk-estimator-id-79\" class=\"sk-toggleable__label sk-toggleable__label-arrow\">StandardScalar</label><div class=\"sk-toggleable__content\"><pre>[&#x27;time_to_due_date&#x27;]</pre></div></div></div><div class=\"sk-serial\"><div class=\"sk-item\"><div class=\"sk-estimator sk-toggleable\"><input class=\"sk-toggleable__control sk-hidden--visually\" id=\"sk-estimator-id-80\" type=\"checkbox\" ><label for=\"sk-estimator-id-80\" class=\"sk-toggleable__label sk-toggleable__label-arrow\">StandardScaler</label><div class=\"sk-toggleable__content\"><pre>StandardScaler()</pre></div></div></div></div></div></div></div></div><div class=\"sk-item\"><div class=\"sk-estimator sk-toggleable\"><input class=\"sk-toggleable__control sk-hidden--visually\" id=\"sk-estimator-id-81\" type=\"checkbox\" ><label for=\"sk-estimator-id-81\" class=\"sk-toggleable__label sk-toggleable__label-arrow\">GradientBoostingRegressor</label><div class=\"sk-toggleable__content\"><pre>GradientBoostingRegressor(learning_rate=0.01, max_depth=100, n_estimators=1000,\n",
       "                          random_state=0)</pre></div></div></div></div></div></div></div>"
      ],
      "text/plain": [
       "Pipeline(steps=[('preprocessor',\n",
       "                 ColumnTransformer(transformers=[('drop_columns', 'drop',\n",
       "                                                  ['id', 'audit_log',\n",
       "                                                   'subtasks',\n",
       "                                                   'stemmed_description',\n",
       "                                                   'tags', 'review', 'comments',\n",
       "                                                   'name']),\n",
       "                                                 ('OneHot',\n",
       "                                                  OneHotEncoder(handle_unknown='ignore'),\n",
       "                                                  ['creator', 'dao', 'priority',\n",
       "                                                   'status', 'assignees']),\n",
       "                                                 ('StandardScalar',\n",
       "                                                  StandardScaler(),\n",
       "                                                  ['time_to_due_date'])])),\n",
       "                ('regressor',\n",
       "                 GradientBoostingRegressor(learning_rate=0.01, max_depth=100,\n",
       "                                           n_estimators=1000,\n",
       "                                           random_state=0))])"
      ]
     },
     "execution_count": 172,
     "metadata": {},
     "output_type": "execute_result"
    }
   ],
   "source": [
    "clf.fit(X_train, y_train)"
   ]
  },
  {
   "cell_type": "code",
   "execution_count": null,
   "metadata": {},
   "outputs": [],
   "source": [
    "clf."
   ]
  },
  {
   "cell_type": "code",
   "execution_count": 173,
   "metadata": {},
   "outputs": [
    {
     "name": "stdout",
     "output_type": "stream",
     "text": [
      "model score: 0.859\n"
     ]
    }
   ],
   "source": [
    "print(\"model score: %.3f\" % clf.score(X_test, y_test))"
   ]
  },
  {
   "cell_type": "code",
   "execution_count": 174,
   "metadata": {},
   "outputs": [
    {
     "data": {
      "text/plain": [
       "0.8592967411008262"
      ]
     },
     "execution_count": 174,
     "metadata": {},
     "output_type": "execute_result"
    }
   ],
   "source": [
    "predictions=clf.predict(X_test)\n",
    "from sklearn.metrics import r2_score\n",
    "r2_score([i[0] for i in y_test.values.tolist()], predictions)"
   ]
  },
  {
   "cell_type": "code",
   "execution_count": 187,
   "metadata": {},
   "outputs": [
    {
     "data": {
      "text/plain": [
       "48641.3905784953"
      ]
     },
     "execution_count": 187,
     "metadata": {},
     "output_type": "execute_result"
    }
   ],
   "source": [
    "mean_squared_error([i[0] for i in y_test.values.tolist()], predictions)"
   ]
  },
  {
   "cell_type": "code",
   "execution_count": 197,
   "metadata": {},
   "outputs": [
    {
     "data": {
      "text/plain": [
       "id                                  b6bbe696-b47c-4435-8dbb-3bc70a91fdfb\n",
       "name                                                           jin bonus\n",
       "dao                                                                   59\n",
       "creat                                                2023-02-27 00:00:00\n",
       "creator                                                               73\n",
       "audit_log              [{'id': 'c18c34b9-fd86-4aa1-81fa-07fc14e18ba4'...\n",
       "due_date                                             2024-01-01 00:00:00\n",
       "assignees                                                            jin\n",
       "priority                                                               0\n",
       "status                                                                 0\n",
       "tags                                                                 NaN\n",
       "review                                                               NaN\n",
       "done                                            2023-02-27T18:49:15.707Z\n",
       "comments                                                            none\n",
       "subtasks                                                             NaN\n",
       "log_reward                                                      0.582216\n",
       "stemmed_description                                                     \n",
       "time_to_due_date                                       26611200000000000\n",
       "Name: 20345, dtype: object"
      ]
     },
     "execution_count": 197,
     "metadata": {},
     "output_type": "execute_result"
    }
   ],
   "source": [
    "X_test.iloc[439,]"
   ]
  },
  {
   "cell_type": "code",
   "execution_count": null,
   "metadata": {},
   "outputs": [],
   "source": []
  },
  {
   "cell_type": "code",
   "execution_count": 210,
   "metadata": {},
   "outputs": [
    {
     "data": {
      "text/plain": [
       "1710"
      ]
     },
     "execution_count": 210,
     "metadata": {},
     "output_type": "execute_result"
    }
   ],
   "source": [
    "import numpy as np \n",
    "len(np.array(np.where((predictions-np.array([i[0] for i in y_test.values.tolist()]))<=10)).tolist()[0])"
   ]
  },
  {
   "cell_type": "code",
   "execution_count": 212,
   "metadata": {},
   "outputs": [
    {
     "data": {
      "text/plain": [
       "1849.658215255537"
      ]
     },
     "execution_count": 212,
     "metadata": {},
     "output_type": "execute_result"
    }
   ],
   "source": [
    "predictions[0]"
   ]
  },
  {
   "cell_type": "code",
   "execution_count": 198,
   "metadata": {},
   "outputs": [
    {
     "data": {
      "text/plain": [
       "1.79"
      ]
     },
     "execution_count": 198,
     "metadata": {},
     "output_type": "execute_result"
    }
   ],
   "source": [
    "[i[0] for i in y_test.values.tolist()][439]"
   ]
  },
  {
   "cell_type": "code",
   "execution_count": 215,
   "metadata": {},
   "outputs": [
    {
     "data": {
      "text/html": [
       "<div>\n",
       "<style scoped>\n",
       "    .dataframe tbody tr th:only-of-type {\n",
       "        vertical-align: middle;\n",
       "    }\n",
       "\n",
       "    .dataframe tbody tr th {\n",
       "        vertical-align: top;\n",
       "    }\n",
       "\n",
       "    .dataframe thead th {\n",
       "        text-align: right;\n",
       "    }\n",
       "</style>\n",
       "<table border=\"1\" class=\"dataframe\">\n",
       "  <thead>\n",
       "    <tr style=\"text-align: right;\">\n",
       "      <th></th>\n",
       "      <th>reward</th>\n",
       "    </tr>\n",
       "  </thead>\n",
       "  <tbody>\n",
       "    <tr>\n",
       "      <th>count</th>\n",
       "      <td>6.886000e+03</td>\n",
       "    </tr>\n",
       "    <tr>\n",
       "      <th>mean</th>\n",
       "      <td>1.941535e+02</td>\n",
       "    </tr>\n",
       "    <tr>\n",
       "      <th>std</th>\n",
       "      <td>5.609072e+02</td>\n",
       "    </tr>\n",
       "    <tr>\n",
       "      <th>min</th>\n",
       "      <td>6.015500e-08</td>\n",
       "    </tr>\n",
       "    <tr>\n",
       "      <th>25%</th>\n",
       "      <td>2.952000e-01</td>\n",
       "    </tr>\n",
       "    <tr>\n",
       "      <th>50%</th>\n",
       "      <td>9.998000e-01</td>\n",
       "    </tr>\n",
       "    <tr>\n",
       "      <th>75%</th>\n",
       "      <td>1.000000e+00</td>\n",
       "    </tr>\n",
       "    <tr>\n",
       "      <th>max</th>\n",
       "      <td>1.850530e+03</td>\n",
       "    </tr>\n",
       "  </tbody>\n",
       "</table>\n",
       "</div>"
      ],
      "text/plain": [
       "             reward\n",
       "count  6.886000e+03\n",
       "mean   1.941535e+02\n",
       "std    5.609072e+02\n",
       "min    6.015500e-08\n",
       "25%    2.952000e-01\n",
       "50%    9.998000e-01\n",
       "75%    1.000000e+00\n",
       "max    1.850530e+03"
      ]
     },
     "execution_count": 215,
     "metadata": {},
     "output_type": "execute_result"
    }
   ],
   "source": [
    "target.describe()"
   ]
  }
 ],
 "metadata": {
  "kernelspec": {
   "display_name": "base",
   "language": "python",
   "name": "python3"
  },
  "language_info": {
   "codemirror_mode": {
    "name": "ipython",
    "version": 3
   },
   "file_extension": ".py",
   "mimetype": "text/x-python",
   "name": "python",
   "nbconvert_exporter": "python",
   "pygments_lexer": "ipython3",
   "version": "3.9.16"
  },
  "orig_nbformat": 4
 },
 "nbformat": 4,
 "nbformat_minor": 2
}
