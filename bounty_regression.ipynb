{
 "cells": [
  {
   "cell_type": "code",
   "execution_count": 1,
   "metadata": {},
   "outputs": [
    {
     "name": "stdout",
     "output_type": "stream",
     "text": [
      "Requirement already satisfied: seaborn in c:\\users\\x2125\\anaconda3\\lib\\site-packages (0.12.2)\n",
      "Requirement already satisfied: numpy!=1.24.0,>=1.17 in c:\\users\\x2125\\anaconda3\\lib\\site-packages (from seaborn) (1.23.5)\n",
      "Requirement already satisfied: matplotlib!=3.6.1,>=3.1 in c:\\users\\x2125\\anaconda3\\lib\\site-packages (from seaborn) (3.7.1)\n",
      "Requirement already satisfied: pandas>=0.25 in c:\\users\\x2125\\anaconda3\\lib\\site-packages (from seaborn) (1.5.3)\n",
      "Requirement already satisfied: kiwisolver>=1.0.1 in c:\\users\\x2125\\anaconda3\\lib\\site-packages (from matplotlib!=3.6.1,>=3.1->seaborn) (1.4.4)\n",
      "Requirement already satisfied: fonttools>=4.22.0 in c:\\users\\x2125\\anaconda3\\lib\\site-packages (from matplotlib!=3.6.1,>=3.1->seaborn) (4.25.0)\n",
      "Requirement already satisfied: contourpy>=1.0.1 in c:\\users\\x2125\\anaconda3\\lib\\site-packages (from matplotlib!=3.6.1,>=3.1->seaborn) (1.0.5)\n",
      "Requirement already satisfied: packaging>=20.0 in c:\\users\\x2125\\anaconda3\\lib\\site-packages (from matplotlib!=3.6.1,>=3.1->seaborn) (23.0)\n",
      "Requirement already satisfied: importlib-resources>=3.2.0 in c:\\users\\x2125\\anaconda3\\lib\\site-packages (from matplotlib!=3.6.1,>=3.1->seaborn) (5.2.0)\n",
      "Requirement already satisfied: pyparsing>=2.3.1 in c:\\users\\x2125\\anaconda3\\lib\\site-packages (from matplotlib!=3.6.1,>=3.1->seaborn) (3.0.9)\n",
      "Requirement already satisfied: pillow>=6.2.0 in c:\\users\\x2125\\anaconda3\\lib\\site-packages (from matplotlib!=3.6.1,>=3.1->seaborn) (9.4.0)\n",
      "Requirement already satisfied: python-dateutil>=2.7 in c:\\users\\x2125\\anaconda3\\lib\\site-packages (from matplotlib!=3.6.1,>=3.1->seaborn) (2.8.2)\n",
      "Requirement already satisfied: cycler>=0.10 in c:\\users\\x2125\\anaconda3\\lib\\site-packages (from matplotlib!=3.6.1,>=3.1->seaborn) (0.11.0)\n"
     ]
    },
    {
     "name": "stderr",
     "output_type": "stream",
     "text": [
      "ERROR: Could not install packages due to an OSError: [Errno 2] No such file or directory: 'c:\\\\users\\\\x2125\\\\anaconda3\\\\lib\\\\site-packages\\\\pandas-1.5.3.dist-info\\\\METADATA'\n",
      "\n"
     ]
    }
   ],
   "source": [
    "#import the libararies\n",
    "#!pip install xgboost\n",
    "#!pip install nltk\n",
    "#!pip install matplotlib\n",
    "!pip install seaborn\n",
    "from xgboost import XGBRegressor\n",
    "import pandas as pd \n",
    "from sklearn.metrics import r2_score\n",
    "import re\n",
    "import math\n",
    "from nltk.stem.snowball import SnowballStemmer\n",
    "import nltk\n",
    "import  matplotlib.pyplot as plt\n",
    "from nltk.corpus import stopwords\n",
    "from sklearn.model_selection import train_test_split\n",
    "import seaborn as sns; sns.set()\n",
    "# set up the stopwords set for steaming and \n",
    "stop_words=set(stopwords.words('english'))\n",
    "stop_words.add('none')\n",
    "# initilize the object of steammer\n",
    "stemmer = SnowballStemmer(\"english\")"
   ]
  },
  {
   "cell_type": "code",
   "execution_count": 6,
   "metadata": {},
   "outputs": [
    {
     "name": "stderr",
     "output_type": "stream",
     "text": [
      "C:\\Users\\x2125\\AppData\\Local\\Temp\\ipykernel_21996\\1565745319.py:2: DtypeWarning: Columns (17) have mixed types. Specify dtype option on import or set low_memory=False.\n",
      "  data=pd.read_csv(r'C:\\Users\\x2125\\Desktop\\full.csv')\n"
     ]
    },
    {
     "data": {
      "text/html": [
       "<div>\n",
       "<style scoped>\n",
       "    .dataframe tbody tr th:only-of-type {\n",
       "        vertical-align: middle;\n",
       "    }\n",
       "\n",
       "    .dataframe tbody tr th {\n",
       "        vertical-align: top;\n",
       "    }\n",
       "\n",
       "    .dataframe thead th {\n",
       "        text-align: right;\n",
       "    }\n",
       "</style>\n",
       "<table border=\"1\" class=\"dataframe\">\n",
       "  <thead>\n",
       "    <tr style=\"text-align: right;\">\n",
       "      <th></th>\n",
       "      <th>reward</th>\n",
       "      <th>id</th>\n",
       "      <th>name</th>\n",
       "      <th>description</th>\n",
       "      <th>dao</th>\n",
       "      <th>creat</th>\n",
       "      <th>creator</th>\n",
       "      <th>audit_log</th>\n",
       "      <th>due_date</th>\n",
       "      <th>assignees</th>\n",
       "      <th>priority</th>\n",
       "      <th>status</th>\n",
       "      <th>tags</th>\n",
       "      <th>review</th>\n",
       "      <th>rewards</th>\n",
       "      <th>done</th>\n",
       "      <th>comments</th>\n",
       "      <th>subtasks</th>\n",
       "    </tr>\n",
       "  </thead>\n",
       "  <tbody>\n",
       "    <tr>\n",
       "      <th>0</th>\n",
       "      <td>NaN</td>\n",
       "      <td>004eb852-4e15-4766-a190-82912dfe0241</td>\n",
       "      <td>Introduce yourself in the community</td>\n",
       "      <td>We want to get to know the community! Stop by ...</td>\n",
       "      <td>cohere</td>\n",
       "      <td>2022-04-27T21:56:05.911Z</td>\n",
       "      <td>marcvs</td>\n",
       "      <td>[{'id': '37dd1b58-9748-4edd-8b06-0564fe43fb06'...</td>\n",
       "      <td>NaN</td>\n",
       "      <td>NaN</td>\n",
       "      <td>NONE</td>\n",
       "      <td>TODO</td>\n",
       "      <td>'community'</td>\n",
       "      <td>NaN</td>\n",
       "      <td>NaN</td>\n",
       "      <td>NaN</td>\n",
       "      <td>none</td>\n",
       "      <td>introduce yourself in the community, , introd...</td>\n",
       "    </tr>\n",
       "    <tr>\n",
       "      <th>1</th>\n",
       "      <td>NaN</td>\n",
       "      <td>00b3cc91-9648-4b41-b666-27e54e17ba0e</td>\n",
       "      <td>ParaSwap</td>\n",
       "      <td>Self integrate into Dex Lib\\n\\n\\\\n</td>\n",
       "      <td>airswap</td>\n",
       "      <td>2022-11-14T20:06:50.349Z</td>\n",
       "      <td>xtra</td>\n",
       "      <td>[{'id': 'ea308758-3e2a-40d9-bd67-0a406f1ccc24'...</td>\n",
       "      <td>NaN</td>\n",
       "      <td>NaN</td>\n",
       "      <td>HIGH</td>\n",
       "      <td>IN_PROGRESS</td>\n",
       "      <td>'aggregator'</td>\n",
       "      <td>NaN</td>\n",
       "      <td>NaN</td>\n",
       "      <td>NaN</td>\n",
       "      <td>'draysongz working on it.', 'mitsi and whatday...</td>\n",
       "      <td>rfq (signer side), , rfq (both sides), , last...</td>\n",
       "    </tr>\n",
       "    <tr>\n",
       "      <th>2</th>\n",
       "      <td>NaN</td>\n",
       "      <td>0114cf53-f1e9-4041-beec-9211d2b10995</td>\n",
       "      <td>Subscriptions</td>\n",
       "      <td>**Google Workspace (GSuite)**\\n\\n**Miro**\\n\\n*...</td>\n",
       "      <td>sourcecred</td>\n",
       "      <td>2022-03-22T23:27:11.705Z</td>\n",
       "      <td>ALOYSIOUS</td>\n",
       "      <td>[]</td>\n",
       "      <td>2022-04-30T23:43:36.718Z</td>\n",
       "      <td>ALOYSIOUS</td>\n",
       "      <td>NONE</td>\n",
       "      <td>IN_PROGRESS</td>\n",
       "      <td>'subscriptions', 'treasury', 'aloysious'</td>\n",
       "      <td>NaN</td>\n",
       "      <td>NaN</td>\n",
       "      <td>NaN</td>\n",
       "      <td>none</td>\n",
       "      <td>contact cardholders // thena, reyder, dandeli...</td>\n",
       "    </tr>\n",
       "    <tr>\n",
       "      <th>3</th>\n",
       "      <td>NaN</td>\n",
       "      <td>018247fc-4a06-4425-8082-0e69c82f0052</td>\n",
       "      <td>Parcel 0 NFT Reveal (CIP-112 Retroactive comp ...</td>\n",
       "      <td>For details: See **FUNDING section at** &lt;https...</td>\n",
       "      <td>citydao</td>\n",
       "      <td>2022-09-07T23:34:48.694Z</td>\n",
       "      <td>Tuncay</td>\n",
       "      <td>[{'id': 'f4aae912-c2a8-46b4-99c4-3ce839060989'...</td>\n",
       "      <td>NaN</td>\n",
       "      <td>reeves|Tuncay|Mayur Mistry|sdsr|DenverCitizen9...</td>\n",
       "      <td>NONE</td>\n",
       "      <td>DONE</td>\n",
       "      <td>NaN</td>\n",
       "      <td>NaN</td>\n",
       "      <td>NaN</td>\n",
       "      <td>2022-09-07T23:47:25.305Z</td>\n",
       "      <td>none</td>\n",
       "      <td>[cip-112] parcel 0 nft reveal retroactive com...</td>\n",
       "    </tr>\n",
       "    <tr>\n",
       "      <th>4</th>\n",
       "      <td>NaN</td>\n",
       "      <td>0217a1e7-8820-4393-83cc-2ac02587a101</td>\n",
       "      <td>💰3-21-book-club</td>\n",
       "      <td>- [Discord Link](https://discord.com/channels/...</td>\n",
       "      <td>poapathon</td>\n",
       "      <td>2022-03-28T11:02:27.095Z</td>\n",
       "      <td>ribbs.eth</td>\n",
       "      <td>[]</td>\n",
       "      <td>NaN</td>\n",
       "      <td>NaN</td>\n",
       "      <td>NONE</td>\n",
       "      <td>DONE</td>\n",
       "      <td>'poap', 'confirmed', 'double-checked', 'first ...</td>\n",
       "      <td>NaN</td>\n",
       "      <td>NaN</td>\n",
       "      <td>2022-04-09T00:58:22.248Z</td>\n",
       "      <td>none</td>\n",
       "      <td>second place 💰 professional development book ...</td>\n",
       "    </tr>\n",
       "  </tbody>\n",
       "</table>\n",
       "</div>"
      ],
      "text/plain": [
       "   reward                                    id  \\\n",
       "0     NaN  004eb852-4e15-4766-a190-82912dfe0241   \n",
       "1     NaN  00b3cc91-9648-4b41-b666-27e54e17ba0e   \n",
       "2     NaN  0114cf53-f1e9-4041-beec-9211d2b10995   \n",
       "3     NaN  018247fc-4a06-4425-8082-0e69c82f0052   \n",
       "4     NaN  0217a1e7-8820-4393-83cc-2ac02587a101   \n",
       "\n",
       "                                                name  \\\n",
       "0                Introduce yourself in the community   \n",
       "1                                           ParaSwap   \n",
       "2                                      Subscriptions   \n",
       "3  Parcel 0 NFT Reveal (CIP-112 Retroactive comp ...   \n",
       "4                                    💰3-21-book-club   \n",
       "\n",
       "                                         description         dao  \\\n",
       "0  We want to get to know the community! Stop by ...      cohere   \n",
       "1                 Self integrate into Dex Lib\\n\\n\\\\n     airswap   \n",
       "2  **Google Workspace (GSuite)**\\n\\n**Miro**\\n\\n*...  sourcecred   \n",
       "3  For details: See **FUNDING section at** <https...     citydao   \n",
       "4  - [Discord Link](https://discord.com/channels/...   poapathon   \n",
       "\n",
       "                      creat    creator  \\\n",
       "0  2022-04-27T21:56:05.911Z     marcvs   \n",
       "1  2022-11-14T20:06:50.349Z       xtra   \n",
       "2  2022-03-22T23:27:11.705Z  ALOYSIOUS   \n",
       "3  2022-09-07T23:34:48.694Z     Tuncay   \n",
       "4  2022-03-28T11:02:27.095Z  ribbs.eth   \n",
       "\n",
       "                                           audit_log  \\\n",
       "0  [{'id': '37dd1b58-9748-4edd-8b06-0564fe43fb06'...   \n",
       "1  [{'id': 'ea308758-3e2a-40d9-bd67-0a406f1ccc24'...   \n",
       "2                                                 []   \n",
       "3  [{'id': 'f4aae912-c2a8-46b4-99c4-3ce839060989'...   \n",
       "4                                                 []   \n",
       "\n",
       "                   due_date  \\\n",
       "0                       NaN   \n",
       "1                       NaN   \n",
       "2  2022-04-30T23:43:36.718Z   \n",
       "3                       NaN   \n",
       "4                       NaN   \n",
       "\n",
       "                                           assignees priority       status  \\\n",
       "0                                                NaN     NONE         TODO   \n",
       "1                                                NaN     HIGH  IN_PROGRESS   \n",
       "2                                          ALOYSIOUS     NONE  IN_PROGRESS   \n",
       "3  reeves|Tuncay|Mayur Mistry|sdsr|DenverCitizen9...     NONE         DONE   \n",
       "4                                                NaN     NONE         DONE   \n",
       "\n",
       "                                                tags review  rewards  \\\n",
       "0                                        'community'    NaN      NaN   \n",
       "1                                       'aggregator'    NaN      NaN   \n",
       "2           'subscriptions', 'treasury', 'aloysious'    NaN      NaN   \n",
       "3                                                NaN    NaN      NaN   \n",
       "4  'poap', 'confirmed', 'double-checked', 'first ...    NaN      NaN   \n",
       "\n",
       "                       done  \\\n",
       "0                       NaN   \n",
       "1                       NaN   \n",
       "2                       NaN   \n",
       "3  2022-09-07T23:47:25.305Z   \n",
       "4  2022-04-09T00:58:22.248Z   \n",
       "\n",
       "                                            comments  \\\n",
       "0                                               none   \n",
       "1  'draysongz working on it.', 'mitsi and whatday...   \n",
       "2                                               none   \n",
       "3                                               none   \n",
       "4                                               none   \n",
       "\n",
       "                                            subtasks  \n",
       "0   introduce yourself in the community, , introd...  \n",
       "1   rfq (signer side), , rfq (both sides), , last...  \n",
       "2   contact cardholders // thena, reyder, dandeli...  \n",
       "3   [cip-112] parcel 0 nft reveal retroactive com...  \n",
       "4   second place 💰 professional development book ...  "
      ]
     },
     "execution_count": 6,
     "metadata": {},
     "output_type": "execute_result"
    }
   ],
   "source": [
    "#import the csv to panda dataframe\n",
    "data=pd.read_csv(r'C:\\Users\\x2125\\Desktop\\full.csv')\n",
    "data.head()"
   ]
  },
  {
   "cell_type": "code",
   "execution_count": 7,
   "metadata": {},
   "outputs": [
    {
     "data": {
      "text/plain": [
       "reward         28448\n",
       "id                 0\n",
       "name               3\n",
       "description     7541\n",
       "dao                0\n",
       "creat              0\n",
       "creator            0\n",
       "audit_log          0\n",
       "due_date       30389\n",
       "assignees      14570\n",
       "priority           0\n",
       "status             0\n",
       "tags           15647\n",
       "review         35116\n",
       "done           17058\n",
       "comments         128\n",
       "subtasks       31086\n",
       "dtype: int64"
      ]
     },
     "execution_count": 7,
     "metadata": {},
     "output_type": "execute_result"
    }
   ],
   "source": [
    "#drop the rewards column which is non-standadized\n",
    "data=data.drop(columns=['rewards'],axis=1)\n",
    "#checking missing_values \n",
    "data.isna().sum()"
   ]
  },
  {
   "cell_type": "code",
   "execution_count": 8,
   "metadata": {},
   "outputs": [
    {
     "data": {
      "text/html": [
       "<div>\n",
       "<style scoped>\n",
       "    .dataframe tbody tr th:only-of-type {\n",
       "        vertical-align: middle;\n",
       "    }\n",
       "\n",
       "    .dataframe tbody tr th {\n",
       "        vertical-align: top;\n",
       "    }\n",
       "\n",
       "    .dataframe thead th {\n",
       "        text-align: right;\n",
       "    }\n",
       "</style>\n",
       "<table border=\"1\" class=\"dataframe\">\n",
       "  <thead>\n",
       "    <tr style=\"text-align: right;\">\n",
       "      <th></th>\n",
       "      <th>reward</th>\n",
       "    </tr>\n",
       "  </thead>\n",
       "  <tbody>\n",
       "    <tr>\n",
       "      <th>count</th>\n",
       "      <td>7565.000000</td>\n",
       "    </tr>\n",
       "    <tr>\n",
       "      <th>mean</th>\n",
       "      <td>203.296785</td>\n",
       "    </tr>\n",
       "    <tr>\n",
       "      <th>std</th>\n",
       "      <td>572.271405</td>\n",
       "    </tr>\n",
       "    <tr>\n",
       "      <th>min</th>\n",
       "      <td>0.000000</td>\n",
       "    </tr>\n",
       "    <tr>\n",
       "      <th>25%</th>\n",
       "      <td>0.295200</td>\n",
       "    </tr>\n",
       "    <tr>\n",
       "      <th>50%</th>\n",
       "      <td>0.999800</td>\n",
       "    </tr>\n",
       "    <tr>\n",
       "      <th>75%</th>\n",
       "      <td>1.000000</td>\n",
       "    </tr>\n",
       "    <tr>\n",
       "      <th>max</th>\n",
       "      <td>1850.530000</td>\n",
       "    </tr>\n",
       "  </tbody>\n",
       "</table>\n",
       "</div>"
      ],
      "text/plain": [
       "            reward\n",
       "count  7565.000000\n",
       "mean    203.296785\n",
       "std     572.271405\n",
       "min       0.000000\n",
       "25%       0.295200\n",
       "50%       0.999800\n",
       "75%       1.000000\n",
       "max    1850.530000"
      ]
     },
     "execution_count": 8,
     "metadata": {},
     "output_type": "execute_result"
    }
   ],
   "source": [
    "#drop the rows containing missing reward\n",
    "data=data.dropna(subset=['reward'])\n",
    "#describe the reward \n",
    "data[['reward']].describe()"
   ]
  },
  {
   "cell_type": "code",
   "execution_count": 9,
   "metadata": {},
   "outputs": [
    {
     "data": {
      "text/plain": [
       "reward            0\n",
       "id                0\n",
       "name              1\n",
       "description    1603\n",
       "dao               0\n",
       "creat             0\n",
       "creator           0\n",
       "audit_log         0\n",
       "due_date       5135\n",
       "assignees       599\n",
       "priority          0\n",
       "status            0\n",
       "tags           3903\n",
       "review         6790\n",
       "done            646\n",
       "comments         35\n",
       "subtasks       6495\n",
       "dtype: int64"
      ]
     },
     "execution_count": 9,
     "metadata": {},
     "output_type": "execute_result"
    }
   ],
   "source": [
    "#data validation \n",
    "# keep only those instances which have the reward>0\n",
    "data=data[data['reward']>0]\n",
    "##keep only those with the status of done, todo, in_review, or in_progress\n",
    "data=data[data['status'].isin(['DONE','TODO','IN_REVIEW','IN_PROGESS'])]\n",
    "#check missing valus again \n",
    "data.isna().sum()"
   ]
  },
  {
   "cell_type": "code",
   "execution_count": 10,
   "metadata": {},
   "outputs": [
    {
     "data": {
      "text/plain": [
       "<Axes: >"
      ]
     },
     "execution_count": 10,
     "metadata": {},
     "output_type": "execute_result"
    },
    {
     "data": {
      "image/png": "[encoded data removed]",
      "text/plain": [
       "<Figure size 640x480 with 1 Axes>"
      ]
     },
     "metadata": {},
     "output_type": "display_data"
    }
   ],
   "source": [
    "# now some EDA for reward, the first comes as the boxplot\n",
    "data['reward'].plot.box()\n",
    "\n"
   ]
  },
  {
   "cell_type": "code",
   "execution_count": 11,
   "metadata": {},
   "outputs": [
    {
     "data": {
      "text/plain": [
       "<Axes: ylabel='Frequency'>"
      ]
     },
     "execution_count": 11,
     "metadata": {},
     "output_type": "execute_result"
    },
    {
     "data": {
      "image/png": "[encoded data removed]",
      "text/plain": [
       "<Figure size 640x480 with 1 Axes>"
      ]
     },
     "metadata": {},
     "output_type": "display_data"
    }
   ],
   "source": [
    "# the second the hist plot, so the data is skewed, and it does not follow the distribution\n",
    "data['reward'].plot.hist()"
   ]
  },
  {
   "cell_type": "code",
   "execution_count": 12,
   "metadata": {},
   "outputs": [
    {
     "data": {
      "text/plain": [
       "6        Mocks:\\n\\n[https://www.figma.com/file/snsXfRjY...\n",
       "28       Based on article/podcast about:\\n\\n* How to bu...\n",
       "45       # Responsibilities\\n\\n* managing the Discord b...\n",
       "55       Write engaged threads to expand Paladin Commun...\n",
       "70       ## # Context\\n\\nIn order to support and promot...\n",
       "                               ...                        \n",
       "35823                                                 None\n",
       "35838                                                 None\n",
       "35846      ![image.png](https://storage.googleapis.com/...\n",
       "35901    Right now our invite links are like \"/o/<orgid...\n",
       "35976    Requirements:\\n- When clicking on the three do...\n",
       "Name: description, Length: 7196, dtype: object"
      ]
     },
     "execution_count": 12,
     "metadata": {},
     "output_type": "execute_result"
    }
   ],
   "source": [
    "data['description']=data['description'].fillna('None')\n",
    "data['description']"
   ]
  },
  {
   "cell_type": "code",
   "execution_count": 14,
   "metadata": {},
   "outputs": [],
   "source": [
    "# next is to use the bag-of-words model to extrat the text features from the description \n",
    "# first is to remove punctuations, emojis, urls from descriptions\n",
    "import re\n",
    "def cleaning(text):\n",
    "     # remove all non-digits and other characters\n",
    "     text=re.sub('[^a-zA-Z ]','',text)\n",
    "     # remove the HTTP string\n",
    "     text=re.sub('(https\\S+)','',text)\n",
    "     text=re.sub('\\s\\s+','',text)\n",
    "     return text\n",
    "data.description=data['description'].apply(cleaning)\n",
    "     \n",
    "     \n"
   ]
  },
  {
   "cell_type": "code",
   "execution_count": 15,
   "metadata": {},
   "outputs": [
    {
     "data": {
      "text/plain": [
       "array(['Mocks Sorting Top ContributorsTop Reviewers should be sorted by Tasks CompletedTasks reviewed by default It should also be possible to manually change sorting to Task points by clicking the column name All Contributors should show contributors which highest number of roles first nice to have Should be possible to sort All contributors by Joined at column Time period It should be possible to change time period by clicking buttons top right The default time period should be d Clicking the last button calendar icon should open calendar picker to choose a custom time period Export as CSV Only DAO admins should be able to export as CSV Make it possible to export alltables as CSV When exporting as CSV should export data for the selected time periodsorting Columns to include include all columns already in the tablea wallet address column Data display If task point or tasks completedreviewedshowinstead ofTechnical approach Atm we dont have a way to query filteredpaginated cards This is something were working on however For now pull down all tasks for the given organization with status DONE and do the transforming clientside We use Ant design so make sure to check out their component library or our current codebase with similar UI to get a sense of what components to use for thisWe currently have export as CSV in project settings to export all tasks Feel free to take a look at that code as inspiration',\n",
       "       'Based on articlepodcast about How to build a DAO Best ways to onboard contributors How to mobilize people How to find contributors How to grow a community How to manage a DAOYou can share your notes in this folder nDAIAFC tokens per notesLocomotive Pauline',\n",
       "       ' Responsibilities managing the Discord bots and their functions managing permissions supervising Discord Moderators and providing them timely advise occasionally revising their guidelines monitoring the the overall community engagement in dynamics and planning enhancements for the mechanics of interactions between the server members monitoring the server for possible cases of illicit activity spam scam exploiting of DIA DAO media resource in inacceptable manner and taking measures on preventing such',\n",
       "       ..., 'imagepng',\n",
       "       'Right now our invite links are like oorgidpprojidinviteIdinviteId which ends up being really longChange this so that invite links are like iinviteId that then redirect the user to the longer url We still want users to be redirected When they eg get invited to a project we want them to land on the project pageWhen doing this ideally query the invite and navigate appropriately serverside eg using getInitialProps Here is some code copied from another project that might illustrate how it could be solved The main point is that we dont want the redirect to happen client sidetsimport NextComponentType from nextimport redirect clearAuthToken from flyttkollwebutilauthconst SignOut NextComponentTypenullSignOutgetInitialPropsctxconst resawait ctxapolloClientmutateGQLAuthWithSessionMutationGQLAuthWithSessionMutationVariablesmutation MutationsauthWithSessionvariables authSessionIdconst someLongerUrlresdatactxreswriteHead location someLongerUrlctxresendreturn export default SignOut',\n",
       "       'Requirements When clicking on the three dots that show the members list also show the option to remove the whole organization Only people with the right permission should be able to do this use usePermissiondelete OrganizationCreate a updateOrganization hook and mutation similar to useUpdateProject When doing this make sure to download and merge in the latest changes from master When the user deletes an organization use eg an Ant design PopConfirmto let the user confirm that the organization will be deleted Thereafter call the hook created above to update the organization by setting deletedAt new DatetoISOString In the hook refetchQueries put Queriesme This will update the organization list in the left rail so that the organization isnt shown anymore'],\n",
       "      dtype=object)"
      ]
     },
     "execution_count": 15,
     "metadata": {},
     "output_type": "execute_result"
    }
   ],
   "source": [
    "data['description'].values"
   ]
  },
  {
   "cell_type": "code",
   "execution_count": 16,
   "metadata": {},
   "outputs": [
    {
     "data": {
      "text/plain": [
       "Index([  242,   299,   386,   608,   614,   746,   760,   840,   910,   963,\n",
       "       ...\n",
       "       34979, 34993, 35005, 35321, 35447, 35490, 35515, 35595, 35823, 35838],\n",
       "      dtype='int64', length=1603)"
      ]
     },
     "execution_count": 16,
     "metadata": {},
     "output_type": "execute_result"
    }
   ],
   "source": [
    "# how many of the descriptions are none\n",
    "data[data['description']=='None'].index"
   ]
  },
  {
   "cell_type": "code",
   "execution_count": 18,
   "metadata": {},
   "outputs": [],
   "source": [
    "from sklearn.model_selection import train_test_split\n",
    "from sklearn.feature_extraction.text import TfidfVectorizer\n",
    "\n"
   ]
  },
  {
   "cell_type": "code",
   "execution_count": 19,
   "metadata": {},
   "outputs": [
    {
     "data": {
      "text/plain": [
       "Index(['reward', 'id', 'name', 'description', 'dao', 'creat', 'creator',\n",
       "       'audit_log', 'due_date', 'assignees', 'priority', 'status', 'tags',\n",
       "       'review', 'done', 'comments', 'subtasks'],\n",
       "      dtype='object')"
      ]
     },
     "execution_count": 19,
     "metadata": {},
     "output_type": "execute_result"
    }
   ],
   "source": [
    "data.columns"
   ]
  },
  {
   "cell_type": "code",
   "execution_count": 20,
   "metadata": {},
   "outputs": [],
   "source": [
    "from sklearn.ensemble import GradientBoostingRegressor\n",
    "reg = GradientBoostingRegressor(random_state=0)"
   ]
  },
  {
   "cell_type": "code",
   "execution_count": 21,
   "metadata": {},
   "outputs": [],
   "source": [
    "from sklearn.preprocessing import OneHotEncoder\n",
    "from sklearn.preprocessing import StandardScaler\n",
    "from sklearn.model_selection import train_test_split\n",
    "from sklearn.compose import ColumnTransformer\n",
    "from sklearn.ensemble import RandomForestRegressor\n",
    "target=data[['reward']]\n",
    "variables=data.drop(columns=['reward'])\n",
    "X_train,X_test,y_train,y_test=train_test_split(variables,target)"
   ]
  },
  {
   "cell_type": "code",
   "execution_count": 22,
   "metadata": {},
   "outputs": [],
   "source": [
    "from sklearn.feature_extraction.text import TfidfVectorizer\n",
    "preprocessor=ColumnTransformer([('drop_columns','drop',['id','name','audit_log','subtasks','tags','review','comments','assignees','creator']),('OneHot',OneHotEncoder(handle_unknown='ignore'),['dao','priority','status']),('vect', TfidfVectorizer(stop_words=list(stop_words),min_df=300),'description')])"
   ]
  },
  {
   "cell_type": "code",
   "execution_count": 23,
   "metadata": {},
   "outputs": [
    {
     "name": "stderr",
     "output_type": "stream",
     "text": [
      "c:\\Users\\x2125\\Desktop\\Wonders\\wonders\\Lib\\site-packages\\sklearn\\base.py:1151: DataConversionWarning: A column-vector y was passed when a 1d array was expected. Please change the shape of y to (n_samples,), for example using ravel().\n",
      "  return fit_method(estimator, *args, **kwargs)\n"
     ]
    },
    {
     "data": {
      "text/html": [
       "<style>#sk-container-id-1 {color: black;}#sk-container-id-1 pre{padding: 0;}#sk-container-id-1 div.sk-toggleable {background-color: white;}#sk-container-id-1 label.sk-toggleable__label {cursor: pointer;display: block;width: 100%;margin-bottom: 0;padding: 0.3em;box-sizing: border-box;text-align: center;}#sk-container-id-1 label.sk-toggleable__label-arrow:before {content: \"▸\";float: left;margin-right: 0.25em;color: #696969;}#sk-container-id-1 label.sk-toggleable__label-arrow:hover:before {color: black;}#sk-container-id-1 div.sk-estimator:hover label.sk-toggleable__label-arrow:before {color: black;}#sk-container-id-1 div.sk-toggleable__content {max-height: 0;max-width: 0;overflow: hidden;text-align: left;background-color: #f0f8ff;}#sk-container-id-1 div.sk-toggleable__content pre {margin: 0.2em;color: black;border-radius: 0.25em;background-color: #f0f8ff;}#sk-container-id-1 input.sk-toggleable__control:checked~div.sk-toggleable__content {max-height: 200px;max-width: 100%;overflow: auto;}#sk-container-id-1 input.sk-toggleable__control:checked~label.sk-toggleable__label-arrow:before {content: \"▾\";}#sk-container-id-1 div.sk-estimator input.sk-toggleable__control:checked~label.sk-toggleable__label {background-color: #d4ebff;}#sk-container-id-1 div.sk-label input.sk-toggleable__control:checked~label.sk-toggleable__label {background-color: #d4ebff;}#sk-container-id-1 input.sk-hidden--visually {border: 0;clip: rect(1px 1px 1px 1px);clip: rect(1px, 1px, 1px, 1px);height: 1px;margin: -1px;overflow: hidden;padding: 0;position: absolute;width: 1px;}#sk-container-id-1 div.sk-estimator {font-family: monospace;background-color: #f0f8ff;border: 1px dotted black;border-radius: 0.25em;box-sizing: border-box;margin-bottom: 0.5em;}#sk-container-id-1 div.sk-estimator:hover {background-color: #d4ebff;}#sk-container-id-1 div.sk-parallel-item::after {content: \"\";width: 100%;border-bottom: 1px solid gray;flex-grow: 1;}#sk-container-id-1 div.sk-label:hover label.sk-toggleable__label {background-color: #d4ebff;}#sk-container-id-1 div.sk-serial::before {content: \"\";position: absolute;border-left: 1px solid gray;box-sizing: border-box;top: 0;bottom: 0;left: 50%;z-index: 0;}#sk-container-id-1 div.sk-serial {display: flex;flex-direction: column;align-items: center;background-color: white;padding-right: 0.2em;padding-left: 0.2em;position: relative;}#sk-container-id-1 div.sk-item {position: relative;z-index: 1;}#sk-container-id-1 div.sk-parallel {display: flex;align-items: stretch;justify-content: center;background-color: white;position: relative;}#sk-container-id-1 div.sk-item::before, #sk-container-id-1 div.sk-parallel-item::before {content: \"\";position: absolute;border-left: 1px solid gray;box-sizing: border-box;top: 0;bottom: 0;left: 50%;z-index: -1;}#sk-container-id-1 div.sk-parallel-item {display: flex;flex-direction: column;z-index: 1;position: relative;background-color: white;}#sk-container-id-1 div.sk-parallel-item:first-child::after {align-self: flex-end;width: 50%;}#sk-container-id-1 div.sk-parallel-item:last-child::after {align-self: flex-start;width: 50%;}#sk-container-id-1 div.sk-parallel-item:only-child::after {width: 0;}#sk-container-id-1 div.sk-dashed-wrapped {border: 1px dashed gray;margin: 0 0.4em 0.5em 0.4em;box-sizing: border-box;padding-bottom: 0.4em;background-color: white;}#sk-container-id-1 div.sk-label label {font-family: monospace;font-weight: bold;display: inline-block;line-height: 1.2em;}#sk-container-id-1 div.sk-label-container {text-align: center;}#sk-container-id-1 div.sk-container {/* jupyter's `normalize.less` sets `[hidden] { display: none; }` but bootstrap.min.css set `[hidden] { display: none !important; }` so we also need the `!important` here to be able to override the default hidden behavior on the sphinx rendered scikit-learn.org. See: https://github.com/scikit-learn/scikit-learn/issues/21755 */display: inline-block !important;position: relative;}#sk-container-id-1 div.sk-text-repr-fallback {display: none;}</style><div id=\"sk-container-id-1\" class=\"sk-top-container\"><div class=\"sk-text-repr-fallback\"><pre>Pipeline(steps=[(&#x27;preprocessor&#x27;,\n",
       "                 ColumnTransformer(transformers=[(&#x27;drop_columns&#x27;, &#x27;drop&#x27;,\n",
       "                                                  [&#x27;id&#x27;, &#x27;name&#x27;, &#x27;audit_log&#x27;,\n",
       "                                                   &#x27;subtasks&#x27;, &#x27;tags&#x27;, &#x27;review&#x27;,\n",
       "                                                   &#x27;comments&#x27;, &#x27;assignees&#x27;,\n",
       "                                                   &#x27;creator&#x27;]),\n",
       "                                                 (&#x27;OneHot&#x27;,\n",
       "                                                  OneHotEncoder(handle_unknown=&#x27;ignore&#x27;),\n",
       "                                                  [&#x27;dao&#x27;, &#x27;priority&#x27;,\n",
       "                                                   &#x27;status&#x27;]),\n",
       "                                                 (&#x27;vect&#x27;,\n",
       "                                                  TfidfVectorizer(min_df=300,\n",
       "                                                                  stop_words=[&#x27;during&#x27;,\n",
       "                                                                              &#x27;very&#x27;,\n",
       "                                                                              &quot;weren&#x27;t&quot;,\n",
       "                                                                              &#x27;can&#x27;,\n",
       "                                                                              &#x27;y&#x27;,\n",
       "                                                                              &#x27;myself&#x27;,\n",
       "                                                                              &#x27;above&#x27;,\n",
       "                                                                              &#x27;have&#x27;,\n",
       "                                                                              &#x27;am&#x27;,\n",
       "                                                                              &#x27;isn&#x27;,\n",
       "                                                                              &#x27;which&#x27;,\n",
       "                                                                              &#x27;other&#x27;,\n",
       "                                                                              &#x27;than&#x27;,\n",
       "                                                                              &#x27;yourself&#x27;,\n",
       "                                                                              &#x27;while&#x27;,\n",
       "                                                                              &#x27;under&#x27;,\n",
       "                                                                              &#x27;when&#x27;,\n",
       "                                                                              &#x27;with&#x27;,\n",
       "                                                                              &#x27;most&#x27;,\n",
       "                                                                              &quot;aren&#x27;t&quot;,\n",
       "                                                                              &#x27;but&#x27;,\n",
       "                                                                              &#x27;this&#x27;,\n",
       "                                                                              &#x27;her&#x27;,\n",
       "                                                                              &#x27;has&#x27;,\n",
       "                                                                              &#x27;both&#x27;,\n",
       "                                                                              &#x27;once&#x27;,\n",
       "                                                                              &#x27;you&#x27;,\n",
       "                                                                              &#x27;out&#x27;,\n",
       "                                                                              &#x27;having&#x27;,\n",
       "                                                                              &quot;shouldn&#x27;t&quot;, ...]),\n",
       "                                                  &#x27;description&#x27;)])),\n",
       "                (&#x27;regressor&#x27;,\n",
       "                 RandomForestRegressor(max_depth=500, n_estimators=600,\n",
       "                                       random_state=0))])</pre><b>In a Jupyter environment, please rerun this cell to show the HTML representation or trust the notebook. <br />On GitHub, the HTML representation is unable to render, please try loading this page with nbviewer.org.</b></div><div class=\"sk-container\" hidden><div class=\"sk-item sk-dashed-wrapped\"><div class=\"sk-label-container\"><div class=\"sk-label sk-toggleable\"><input class=\"sk-toggleable__control sk-hidden--visually\" id=\"sk-estimator-id-1\" type=\"checkbox\" ><label for=\"sk-estimator-id-1\" class=\"sk-toggleable__label sk-toggleable__label-arrow\">Pipeline</label><div class=\"sk-toggleable__content\"><pre>Pipeline(steps=[(&#x27;preprocessor&#x27;,\n",
       "                 ColumnTransformer(transformers=[(&#x27;drop_columns&#x27;, &#x27;drop&#x27;,\n",
       "                                                  [&#x27;id&#x27;, &#x27;name&#x27;, &#x27;audit_log&#x27;,\n",
       "                                                   &#x27;subtasks&#x27;, &#x27;tags&#x27;, &#x27;review&#x27;,\n",
       "                                                   &#x27;comments&#x27;, &#x27;assignees&#x27;,\n",
       "                                                   &#x27;creator&#x27;]),\n",
       "                                                 (&#x27;OneHot&#x27;,\n",
       "                                                  OneHotEncoder(handle_unknown=&#x27;ignore&#x27;),\n",
       "                                                  [&#x27;dao&#x27;, &#x27;priority&#x27;,\n",
       "                                                   &#x27;status&#x27;]),\n",
       "                                                 (&#x27;vect&#x27;,\n",
       "                                                  TfidfVectorizer(min_df=300,\n",
       "                                                                  stop_words=[&#x27;during&#x27;,\n",
       "                                                                              &#x27;very&#x27;,\n",
       "                                                                              &quot;weren&#x27;t&quot;,\n",
       "                                                                              &#x27;can&#x27;,\n",
       "                                                                              &#x27;y&#x27;,\n",
       "                                                                              &#x27;myself&#x27;,\n",
       "                                                                              &#x27;above&#x27;,\n",
       "                                                                              &#x27;have&#x27;,\n",
       "                                                                              &#x27;am&#x27;,\n",
       "                                                                              &#x27;isn&#x27;,\n",
       "                                                                              &#x27;which&#x27;,\n",
       "                                                                              &#x27;other&#x27;,\n",
       "                                                                              &#x27;than&#x27;,\n",
       "                                                                              &#x27;yourself&#x27;,\n",
       "                                                                              &#x27;while&#x27;,\n",
       "                                                                              &#x27;under&#x27;,\n",
       "                                                                              &#x27;when&#x27;,\n",
       "                                                                              &#x27;with&#x27;,\n",
       "                                                                              &#x27;most&#x27;,\n",
       "                                                                              &quot;aren&#x27;t&quot;,\n",
       "                                                                              &#x27;but&#x27;,\n",
       "                                                                              &#x27;this&#x27;,\n",
       "                                                                              &#x27;her&#x27;,\n",
       "                                                                              &#x27;has&#x27;,\n",
       "                                                                              &#x27;both&#x27;,\n",
       "                                                                              &#x27;once&#x27;,\n",
       "                                                                              &#x27;you&#x27;,\n",
       "                                                                              &#x27;out&#x27;,\n",
       "                                                                              &#x27;having&#x27;,\n",
       "                                                                              &quot;shouldn&#x27;t&quot;, ...]),\n",
       "                                                  &#x27;description&#x27;)])),\n",
       "                (&#x27;regressor&#x27;,\n",
       "                 RandomForestRegressor(max_depth=500, n_estimators=600,\n",
       "                                       random_state=0))])</pre></div></div></div><div class=\"sk-serial\"><div class=\"sk-item sk-dashed-wrapped\"><div class=\"sk-label-container\"><div class=\"sk-label sk-toggleable\"><input class=\"sk-toggleable__control sk-hidden--visually\" id=\"sk-estimator-id-2\" type=\"checkbox\" ><label for=\"sk-estimator-id-2\" class=\"sk-toggleable__label sk-toggleable__label-arrow\">preprocessor: ColumnTransformer</label><div class=\"sk-toggleable__content\"><pre>ColumnTransformer(transformers=[(&#x27;drop_columns&#x27;, &#x27;drop&#x27;,\n",
       "                                 [&#x27;id&#x27;, &#x27;name&#x27;, &#x27;audit_log&#x27;, &#x27;subtasks&#x27;, &#x27;tags&#x27;,\n",
       "                                  &#x27;review&#x27;, &#x27;comments&#x27;, &#x27;assignees&#x27;,\n",
       "                                  &#x27;creator&#x27;]),\n",
       "                                (&#x27;OneHot&#x27;,\n",
       "                                 OneHotEncoder(handle_unknown=&#x27;ignore&#x27;),\n",
       "                                 [&#x27;dao&#x27;, &#x27;priority&#x27;, &#x27;status&#x27;]),\n",
       "                                (&#x27;vect&#x27;,\n",
       "                                 TfidfVectorizer(min_df=300,\n",
       "                                                 stop_words=[&#x27;during&#x27;, &#x27;very&#x27;,\n",
       "                                                             &quot;weren&#x27;t&quot;, &#x27;can&#x27;,\n",
       "                                                             &#x27;y&#x27;, &#x27;myself&#x27;,\n",
       "                                                             &#x27;above&#x27;, &#x27;have&#x27;,\n",
       "                                                             &#x27;am&#x27;, &#x27;isn&#x27;,\n",
       "                                                             &#x27;which&#x27;, &#x27;other&#x27;,\n",
       "                                                             &#x27;than&#x27;, &#x27;yourself&#x27;,\n",
       "                                                             &#x27;while&#x27;, &#x27;under&#x27;,\n",
       "                                                             &#x27;when&#x27;, &#x27;with&#x27;,\n",
       "                                                             &#x27;most&#x27;, &quot;aren&#x27;t&quot;,\n",
       "                                                             &#x27;but&#x27;, &#x27;this&#x27;,\n",
       "                                                             &#x27;her&#x27;, &#x27;has&#x27;,\n",
       "                                                             &#x27;both&#x27;, &#x27;once&#x27;,\n",
       "                                                             &#x27;you&#x27;, &#x27;out&#x27;,\n",
       "                                                             &#x27;having&#x27;,\n",
       "                                                             &quot;shouldn&#x27;t&quot;, ...]),\n",
       "                                 &#x27;description&#x27;)])</pre></div></div></div><div class=\"sk-parallel\"><div class=\"sk-parallel-item\"><div class=\"sk-item\"><div class=\"sk-label-container\"><div class=\"sk-label sk-toggleable\"><input class=\"sk-toggleable__control sk-hidden--visually\" id=\"sk-estimator-id-3\" type=\"checkbox\" ><label for=\"sk-estimator-id-3\" class=\"sk-toggleable__label sk-toggleable__label-arrow\">drop_columns</label><div class=\"sk-toggleable__content\"><pre>[&#x27;id&#x27;, &#x27;name&#x27;, &#x27;audit_log&#x27;, &#x27;subtasks&#x27;, &#x27;tags&#x27;, &#x27;review&#x27;, &#x27;comments&#x27;, &#x27;assignees&#x27;, &#x27;creator&#x27;]</pre></div></div></div><div class=\"sk-serial\"><div class=\"sk-item\"><div class=\"sk-estimator sk-toggleable\"><input class=\"sk-toggleable__control sk-hidden--visually\" id=\"sk-estimator-id-4\" type=\"checkbox\" ><label for=\"sk-estimator-id-4\" class=\"sk-toggleable__label sk-toggleable__label-arrow\">drop</label><div class=\"sk-toggleable__content\"><pre>drop</pre></div></div></div></div></div></div><div class=\"sk-parallel-item\"><div class=\"sk-item\"><div class=\"sk-label-container\"><div class=\"sk-label sk-toggleable\"><input class=\"sk-toggleable__control sk-hidden--visually\" id=\"sk-estimator-id-5\" type=\"checkbox\" ><label for=\"sk-estimator-id-5\" class=\"sk-toggleable__label sk-toggleable__label-arrow\">OneHot</label><div class=\"sk-toggleable__content\"><pre>[&#x27;dao&#x27;, &#x27;priority&#x27;, &#x27;status&#x27;]</pre></div></div></div><div class=\"sk-serial\"><div class=\"sk-item\"><div class=\"sk-estimator sk-toggleable\"><input class=\"sk-toggleable__control sk-hidden--visually\" id=\"sk-estimator-id-6\" type=\"checkbox\" ><label for=\"sk-estimator-id-6\" class=\"sk-toggleable__label sk-toggleable__label-arrow\">OneHotEncoder</label><div class=\"sk-toggleable__content\"><pre>OneHotEncoder(handle_unknown=&#x27;ignore&#x27;)</pre></div></div></div></div></div></div><div class=\"sk-parallel-item\"><div class=\"sk-item\"><div class=\"sk-label-container\"><div class=\"sk-label sk-toggleable\"><input class=\"sk-toggleable__control sk-hidden--visually\" id=\"sk-estimator-id-7\" type=\"checkbox\" ><label for=\"sk-estimator-id-7\" class=\"sk-toggleable__label sk-toggleable__label-arrow\">vect</label><div class=\"sk-toggleable__content\"><pre>description</pre></div></div></div><div class=\"sk-serial\"><div class=\"sk-item\"><div class=\"sk-estimator sk-toggleable\"><input class=\"sk-toggleable__control sk-hidden--visually\" id=\"sk-estimator-id-8\" type=\"checkbox\" ><label for=\"sk-estimator-id-8\" class=\"sk-toggleable__label sk-toggleable__label-arrow\">TfidfVectorizer</label><div class=\"sk-toggleable__content\"><pre>TfidfVectorizer(min_df=300,\n",
       "                stop_words=[&#x27;during&#x27;, &#x27;very&#x27;, &quot;weren&#x27;t&quot;, &#x27;can&#x27;, &#x27;y&#x27;, &#x27;myself&#x27;,\n",
       "                            &#x27;above&#x27;, &#x27;have&#x27;, &#x27;am&#x27;, &#x27;isn&#x27;, &#x27;which&#x27;, &#x27;other&#x27;,\n",
       "                            &#x27;than&#x27;, &#x27;yourself&#x27;, &#x27;while&#x27;, &#x27;under&#x27;, &#x27;when&#x27;,\n",
       "                            &#x27;with&#x27;, &#x27;most&#x27;, &quot;aren&#x27;t&quot;, &#x27;but&#x27;, &#x27;this&#x27;, &#x27;her&#x27;,\n",
       "                            &#x27;has&#x27;, &#x27;both&#x27;, &#x27;once&#x27;, &#x27;you&#x27;, &#x27;out&#x27;, &#x27;having&#x27;,\n",
       "                            &quot;shouldn&#x27;t&quot;, ...])</pre></div></div></div></div></div></div></div></div><div class=\"sk-item\"><div class=\"sk-estimator sk-toggleable\"><input class=\"sk-toggleable__control sk-hidden--visually\" id=\"sk-estimator-id-9\" type=\"checkbox\" ><label for=\"sk-estimator-id-9\" class=\"sk-toggleable__label sk-toggleable__label-arrow\">RandomForestRegressor</label><div class=\"sk-toggleable__content\"><pre>RandomForestRegressor(max_depth=500, n_estimators=600, random_state=0)</pre></div></div></div></div></div></div></div>"
      ],
      "text/plain": [
       "Pipeline(steps=[('preprocessor',\n",
       "                 ColumnTransformer(transformers=[('drop_columns', 'drop',\n",
       "                                                  ['id', 'name', 'audit_log',\n",
       "                                                   'subtasks', 'tags', 'review',\n",
       "                                                   'comments', 'assignees',\n",
       "                                                   'creator']),\n",
       "                                                 ('OneHot',\n",
       "                                                  OneHotEncoder(handle_unknown='ignore'),\n",
       "                                                  ['dao', 'priority',\n",
       "                                                   'status']),\n",
       "                                                 ('vect',\n",
       "                                                  TfidfVectorizer(min_df=300,\n",
       "                                                                  stop_words=['during',\n",
       "                                                                              'very',\n",
       "                                                                              \"weren't\",\n",
       "                                                                              'can',\n",
       "                                                                              'y',\n",
       "                                                                              'myself',\n",
       "                                                                              'above',\n",
       "                                                                              'have',\n",
       "                                                                              'am',\n",
       "                                                                              'isn',\n",
       "                                                                              'which',\n",
       "                                                                              'other',\n",
       "                                                                              'than',\n",
       "                                                                              'yourself',\n",
       "                                                                              'while',\n",
       "                                                                              'under',\n",
       "                                                                              'when',\n",
       "                                                                              'with',\n",
       "                                                                              'most',\n",
       "                                                                              \"aren't\",\n",
       "                                                                              'but',\n",
       "                                                                              'this',\n",
       "                                                                              'her',\n",
       "                                                                              'has',\n",
       "                                                                              'both',\n",
       "                                                                              'once',\n",
       "                                                                              'you',\n",
       "                                                                              'out',\n",
       "                                                                              'having',\n",
       "                                                                              \"shouldn't\", ...]),\n",
       "                                                  'description')])),\n",
       "                ('regressor',\n",
       "                 RandomForestRegressor(max_depth=500, n_estimators=600,\n",
       "                                       random_state=0))])"
      ]
     },
     "execution_count": 23,
     "metadata": {},
     "output_type": "execute_result"
    }
   ],
   "source": [
    "from sklearn.metrics import mean_squared_error\n",
    "from sklearn.pipeline import Pipeline\n",
    "from sklearn.linear_model import LinearRegression\n",
    "from sklearn.model_selection import GridSearchCV\n",
    "from sklearn import linear_model\n",
    "from sklearn import tree\n",
    "from sklearn import tree\n",
    "from sklearn import ensemble\n",
    "#params = {\n",
    "    #\"regressor__n_estimators\": #[100,200,300,400,500],\n",
    "    #\"regressor__max_depth\": #[4,5,6,7,8,9,10],\n",
    "    #\"regressor__min_samples_split\": #[1,2,3,4,5,6],\n",
    "    #\"regressor__learning_rate\": #[0.1,0.2,0.3,0.4,0.5,0.01,0.02],\n",
    "    #\"regressor__loss\": #[\"squared_error\"],\n",
    "#}\n",
    "random_state=0\n",
    "clf_random_forest = Pipeline(\n",
    "    steps=[(\"preprocessor\", preprocessor),('regressor',RandomForestRegressor(random_state=random_state,max_depth=500,n_estimators=600))])\n",
    "#clf=Pipeline(steps=[('preprocessor',preprocessor),('regressor', ensemble.GradientBoostingRegressor())])\n",
    "#parameters_grid={'regressor__max_depth':[int(i/100) for i in range(1000,20000,1000)],'regressor__n_estimators':[int(i/10) for i in range(100,1000,100)]}\n",
    "#search=GridSearchCV(clf,param_grid=params,verbose=2)\n",
    "#search.fit(X_train,y_train)\n",
    "#search.fit(X_train,y_train)\n",
    "clf_random_forest.fit(X_train,y_train)"
   ]
  },
  {
   "cell_type": "code",
   "execution_count": 24,
   "metadata": {},
   "outputs": [
    {
     "name": "stdout",
     "output_type": "stream",
     "text": [
      "model score: 0.881\n"
     ]
    }
   ],
   "source": [
    "print(\"model score: %.3f\" % clf_random_forest.score(X_test, y_test))"
   ]
  },
  {
   "cell_type": "code",
   "execution_count": 25,
   "metadata": {},
   "outputs": [
    {
     "name": "stderr",
     "output_type": "stream",
     "text": [
      "c:\\Users\\x2125\\Desktop\\Wonders\\wonders\\Lib\\site-packages\\sklearn\\ensemble\\_gb.py:424: DataConversionWarning: A column-vector y was passed when a 1d array was expected. Please change the shape of y to (n_samples, ), for example using ravel().\n",
      "  y = column_or_1d(y, warn=True)\n"
     ]
    },
    {
     "data": {
      "text/plain": [
       "0.872181538473682"
      ]
     },
     "execution_count": 25,
     "metadata": {},
     "output_type": "execute_result"
    }
   ],
   "source": [
    "clf_boosting_regressor=Pipeline(steps=[('preprocessor',preprocessor),('regressor',GradientBoostingRegressor(learning_rate=0.1,loss='squared_error',max_depth=4,min_samples_split=2,n_estimators=200))])\n",
    "clf_boosting_regressor.fit(X_train,y_train)\n",
    "clf_boosting_regressor.score(X_test,y_test)\n"
   ]
  },
  {
   "cell_type": "code",
   "execution_count": 26,
   "metadata": {},
   "outputs": [
    {
     "data": {
      "text/plain": [
       "0.8410863686580904"
      ]
     },
     "execution_count": 26,
     "metadata": {},
     "output_type": "execute_result"
    }
   ],
   "source": [
    "clf_ridge=Pipeline(steps=[('preprocessor',preprocessor),('regressor',linear_model.Ridge())])\n",
    "clf_ridge.fit(X_train,y_train)\n",
    "clf_ridge.score(X_test,y_test)"
   ]
  },
  {
   "cell_type": "code",
   "execution_count": 36,
   "metadata": {},
   "outputs": [
    {
     "data": {
      "text/plain": [
       "0.81039457713411"
      ]
     },
     "execution_count": 36,
     "metadata": {},
     "output_type": "execute_result"
    }
   ],
   "source": [
    "from sklearn.neighbors import KNeighborsRegressor\n",
    "clf_k_neighbor=Pipeline(steps=[('preprocessor',preprocessor),('regressor',KNeighborsRegressor(n_neighbors=3))])\n",
    "clf_k_neighbor.fit(X_train,y_train)\n",
    "clf_k_neighbor.score(X_test,y_test)"
   ]
  },
  {
   "cell_type": "code",
   "execution_count": 37,
   "metadata": {},
   "outputs": [
    {
     "data": {
      "text/plain": [
       "0.8742828387062153"
      ]
     },
     "execution_count": 37,
     "metadata": {},
     "output_type": "execute_result"
    }
   ],
   "source": [
    "import xgboost as xgb\n",
    "clf_xgboost=Pipeline(steps=[('preprocessor',preprocessor),('regressor',xgb.XGBRegressor(max_depth=100, objective='reg:squarederror'))])\n",
    "clf_xgboost.fit(X_train,y_train)\n",
    "clf_xgboost.score(X_test,y_test)"
   ]
  },
  {
   "cell_type": "code",
   "execution_count": 29,
   "metadata": {},
   "outputs": [
    {
     "ename": "NameError",
     "evalue": "name 'clf' is not defined",
     "output_type": "error",
     "traceback": [
      "\u001b[1;31m---------------------------------------------------------------------------\u001b[0m",
      "\u001b[1;31mNameError\u001b[0m                                 Traceback (most recent call last)",
      "Cell \u001b[1;32mIn[29], line 3\u001b[0m\n\u001b[0;32m      1\u001b[0m \u001b[39mfrom\u001b[39;00m \u001b[39msklearn\u001b[39;00m\u001b[39m.\u001b[39;00m\u001b[39mtree\u001b[39;00m \u001b[39mimport\u001b[39;00m export_graphviz\n\u001b[0;32m      2\u001b[0m \u001b[39mfrom\u001b[39;00m \u001b[39mmatplotlib\u001b[39;00m \u001b[39mimport\u001b[39;00m pyplot \u001b[39mas\u001b[39;00m plt\n\u001b[1;32m----> 3\u001b[0m tree\u001b[39m.\u001b[39mplot_tree(clf\u001b[39m.\u001b[39mnamed_steps[\u001b[39m'\u001b[39m\u001b[39mregressor\u001b[39m\u001b[39m'\u001b[39m],max_depth\u001b[39m=\u001b[39m\u001b[39m6\u001b[39m,fontsize\u001b[39m=\u001b[39m\u001b[39m6\u001b[39m)\n\u001b[0;32m      4\u001b[0m plt\u001b[39m.\u001b[39mshow()\n",
      "\u001b[1;31mNameError\u001b[0m: name 'clf' is not defined"
     ]
    }
   ],
   "source": [
    "from sklearn.tree import export_graphviz\n",
    "from matplotlib import pyplot as plt\n",
    "tree.plot_tree(clf.named_steps['regressor'],max_depth=6,fontsize=6)\n",
    "plt.show()"
   ]
  },
  {
   "cell_type": "code",
   "execution_count": 38,
   "metadata": {},
   "outputs": [
    {
     "name": "stderr",
     "output_type": "stream",
     "text": [
      "c:\\Users\\x2125\\Desktop\\Wonders\\wonders\\Lib\\site-packages\\sklearn\\ensemble\\_stacking.py:955: DataConversionWarning: A column-vector y was passed when a 1d array was expected. Please change the shape of y to (n_samples, ), for example using ravel().\n",
      "  y = column_or_1d(y, warn=True)\n"
     ]
    },
    {
     "data": {
      "text/plain": [
       "0.8742826634647805"
      ]
     },
     "execution_count": 38,
     "metadata": {},
     "output_type": "execute_result"
    }
   ],
   "source": [
    "from sklearn.ensemble import StackingRegressor\n",
    "from sklearn import linear_model\n",
    "from sklearn.neural_network import MLPRegressor\n",
    "estimators = [\n",
    "    (\"Random Forest\", clf_random_forest),\n",
    "    (\"ridge\", clf_ridge),\n",
    "    (\"Gradient Boosting\", clf_boosting_regressor),\n",
    "    ('k_neighbor',clf_k_neighbor),\n",
    "    ('xgb',clf_xgboost)\n",
    "\n",
    "]\n",
    "stacking_regressor = StackingRegressor(estimators=estimators, final_estimator=linear_model.RidgeCV(),cv='prefit')\n",
    "stacking_regressor.fit(X_train,y_train).score(X_test,y_test)"
   ]
  },
  {
   "cell_type": "code",
   "execution_count": 39,
   "metadata": {},
   "outputs": [],
   "source": [
    "example=X_test[X_test['id']=='7c57400a-66f4-4694-a82f-31bbad16372e']"
   ]
  },
  {
   "cell_type": "code",
   "execution_count": 45,
   "metadata": {},
   "outputs": [
    {
     "data": {
      "text/html": [
       "<div>\n",
       "<style scoped>\n",
       "    .dataframe tbody tr th:only-of-type {\n",
       "        vertical-align: middle;\n",
       "    }\n",
       "\n",
       "    .dataframe tbody tr th {\n",
       "        vertical-align: top;\n",
       "    }\n",
       "\n",
       "    .dataframe thead th {\n",
       "        text-align: right;\n",
       "    }\n",
       "</style>\n",
       "<table border=\"1\" class=\"dataframe\">\n",
       "  <thead>\n",
       "    <tr style=\"text-align: right;\">\n",
       "      <th></th>\n",
       "      <th>id</th>\n",
       "      <th>name</th>\n",
       "      <th>description</th>\n",
       "      <th>dao</th>\n",
       "      <th>creat</th>\n",
       "      <th>creator</th>\n",
       "      <th>audit_log</th>\n",
       "      <th>due_date</th>\n",
       "      <th>assignees</th>\n",
       "      <th>priority</th>\n",
       "      <th>status</th>\n",
       "      <th>tags</th>\n",
       "      <th>review</th>\n",
       "      <th>done</th>\n",
       "      <th>comments</th>\n",
       "      <th>subtasks</th>\n",
       "    </tr>\n",
       "  </thead>\n",
       "  <tbody>\n",
       "  </tbody>\n",
       "</table>\n",
       "</div>"
      ],
      "text/plain": [
       "Empty DataFrame\n",
       "Columns: [id, name, description, dao, creat, creator, audit_log, due_date, assignees, priority, status, tags, review, done, comments, subtasks]\n",
       "Index: []"
      ]
     },
     "execution_count": 45,
     "metadata": {},
     "output_type": "execute_result"
    }
   ],
   "source": [
    "example"
   ]
  },
  {
   "cell_type": "code",
   "execution_count": 40,
   "metadata": {},
   "outputs": [
    {
     "data": {
      "text/plain": [
       "array(['abb52ddc-dc69-455f-abdc-276d2bcfcf8e', 'Kevin May 1st', 'k',\n",
       "       'boot finance dao', '2022-05-01T16:41:20.217Z', 'Sabretooth',\n",
       "       \"[{'id': 'e6c2f67e-1789-44f1-8e77-e33cb3146826', 'createdAt': '2022-05-01T16:41:20.362Z', 'user': {'id': '5b15eecc-5c85-4486-a935-83cab456c049', 'username': 'Sabretooth', 'imageUrl': 'https://cdn.discordapp.com/avatars/517267011861086208/c5de6ae5cca36b4d3f5a87869e9cddaa.jpg', 'permalink': 'https://app.dework.xyz/profile/Sabretooth', 'nodeId': 'c95d4ac6-a54d-42f3-86e1-524ffde51107', '__typename': 'User'}, 'sessionId': None, 'diff': [{'kind': 'N', 'rhs': {'status': 'TODO'}}], '__typename': 'AuditLogEvent'}, {'id': '8f10151e-6bea-4522-8d24-9f26ca6a2652', 'createdAt': '2022-05-01T16:42:26.801Z', 'user': {'id': '5b15eecc-5c85-4486-a935-83cab456c049', 'username': 'Sabretooth', 'imageUrl': 'https://cdn.discordapp.com/avatars/517267011861086208/c5de6ae5cca36b4d3f5a87869e9cddaa.jpg', 'permalink': 'https://app.dework.xyz/profile/Sabretooth', 'nodeId': 'c95d4ac6-a54d-42f3-86e1-524ffde51107', '__typename': 'User'}, 'sessionId': None, 'diff': [{'kind': 'E', 'path': ['status'], 'lhs': 'TODO', 'rhs': 'DONE'}], '__typename': 'AuditLogEvent'}]\",\n",
       "       nan, 'kwhuo68', 'NONE', 'DONE', nan, nan,\n",
       "       '2022-05-01T16:42:26.743Z', 'none', nan], dtype=object)"
      ]
     },
     "execution_count": 40,
     "metadata": {},
     "output_type": "execute_result"
    }
   ],
   "source": [
    "X_test.iloc[0,].values"
   ]
  },
  {
   "cell_type": "code",
   "execution_count": 42,
   "metadata": {},
   "outputs": [
    {
     "data": {
      "text/plain": [
       "'1.3.0'"
      ]
     },
     "execution_count": 42,
     "metadata": {},
     "output_type": "execute_result"
    }
   ],
   "source": [
    "import sklearn\n",
    "sklearn.__version__\n"
   ]
  },
  {
   "cell_type": "code",
   "execution_count": null,
   "metadata": {},
   "outputs": [],
   "source": [
    "stacking_regressor.predict(example)\n"
   ]
  },
  {
   "cell_type": "code",
   "execution_count": 46,
   "metadata": {},
   "outputs": [],
   "source": [
    "import pickle\n",
    "with open('trained_pipeline_0.01.pkl','wb') as f:\n",
    "           pickle.dump(stacking_regressor,f)"
   ]
  },
  {
   "cell_type": "code",
   "execution_count": 49,
   "metadata": {},
   "outputs": [],
   "source": [
    "\n",
    "model=pickle.load(open(r'C:\\Users\\x2125\\Desktop\\Wonders\\WonderProject\\api\\model\\trained_pipeline_0.01.pkl','rb'))"
   ]
  },
  {
   "cell_type": "code",
   "execution_count": 47,
   "metadata": {},
   "outputs": [],
   "source": [
    "!pip freeze > requirements.txt"
   ]
  },
  {
   "cell_type": "code",
   "execution_count": 48,
   "metadata": {},
   "outputs": [
    {
     "data": {
      "text/plain": [
       "'1.3.0'"
      ]
     },
     "execution_count": 48,
     "metadata": {},
     "output_type": "execute_result"
    }
   ],
   "source": [
    "import sklearn\n",
    "sklearn.__version__"
   ]
  },
  {
   "cell_type": "code",
   "execution_count": null,
   "metadata": {},
   "outputs": [],
   "source": [
    "token_data = schemas.TokenData(username=username)"
   ]
  },
  {
   "cell_type": "code",
   "execution_count": 50,
   "metadata": {},
   "outputs": [
    {
     "data": {
      "text/plain": [
       "6        0312b578-1626-4d28-b8e4-ab43bd8df160\n",
       "28       14af35e9-cd39-4d46-afde-61e32cb1ae4d\n",
       "45       1ca65f9b-1af1-4aeb-be43-d4f545ef0db1\n",
       "55       2318c3ce-2135-4e48-96b8-6e740e2c5c9e\n",
       "70       38053880-c180-46db-b03c-9502e1236749\n",
       "                         ...                 \n",
       "35823    27d02882-8a21-49c2-9d3f-a774cd1cd8a8\n",
       "35838    fa5f31e6-8a8a-4a4b-b19a-21974cf8ee93\n",
       "35846    4bf78f82-44f7-4468-9766-73f14a9cf47e\n",
       "35901    bf579b5e-de35-4dab-920b-47e21d85b648\n",
       "35976    379361e3-c17c-4130-a80e-fbcfa62671fd\n",
       "Name: id, Length: 7196, dtype: object"
      ]
     },
     "execution_count": 50,
     "metadata": {},
     "output_type": "execute_result"
    }
   ],
   "source": [
    "data['id']"
   ]
  }
 ],
 "metadata": {
  "kernelspec": {
   "display_name": "base",
   "language": "python",
   "name": "python3"
  },
  "language_info": {
   "codemirror_mode": {
    "name": "ipython",
    "version": 3
   },
   "file_extension": ".py",
   "mimetype": "text/x-python",
   "name": "python",
   "nbconvert_exporter": "python",
   "pygments_lexer": "ipython3",
   "version": "3.9.16"
  },
  "orig_nbformat": 4
 },
 "nbformat": 4,
 "nbformat_minor": 2
}
