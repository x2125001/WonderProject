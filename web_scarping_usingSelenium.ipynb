{
  "cells": [
    {
      "attachments": {},
      "cell_type": "markdown",
      "metadata": {
        "id": "lmcHKVtuOdLC"
      },
      "source": [
        "# Scraping the website\n"
      ]
    },
    {
      "cell_type": "code",
      "execution_count": 1,
      "metadata": {
        "id": "_grv5q7UOdLF"
      },
      "outputs": [],
      "source": [
        "from selenium import webdriver\n",
        "from selenium.webdriver.common.keys import Keys\n",
        "from selenium.webdriver.common.by import By\n",
        "from selenium.webdriver.chrome.options import Options\n",
        "import pandas as pd\n",
        "from selenium.webdriver.support.wait import WebDriverWait\n",
        "from selenium.webdriver.support import expected_conditions as EC\n",
        "options = Options()\n",
        "options.add_argument('--headless')\n",
        "options.add_argument('--no-sandbox')\n",
        "options.add_argument('--disable-dev-shm-usage')\n",
        "wd = webdriver.Chrome(options=options)"
      ]
    },
    {
      "cell_type": "code",
      "execution_count": 2,
      "metadata": {
        "id": "HryQinjJOdLH"
      },
      "outputs": [],
      "source": [
        "from time import sleep\n",
        "wd.implicitly_wait(30)\n",
        "wd.get(\"https://dework.xyz/\")\n",
        "bounties_button=wd.find_element(By.CLASS_NAME,'ant-btn-default')\n",
        "wd.get(bounties_button.get_attribute(\"href\"))"
      ]
    },
    {
      "cell_type": "code",
      "execution_count": null,
      "metadata": {
        "id": "u0S2xvLqOdLH"
      },
      "outputs": [],
      "source": [
        "wd.find_element(By.CSS_SELECTOR,\"div#rc-tabs-0-tab-organizations\").click()"
      ]
    },
    {
      "cell_type": "code",
      "execution_count": null,
      "metadata": {
        "id": "T7BLu9HSOdLH"
      },
      "outputs": [],
      "source": [
        "data_communities=[]\n",
        "def collections_to_dic(DAOS):\n",
        "    for result in DAOS:\n",
        "        DA0_link=result.find_element(By.TAG_NAME,\"a\").get_attribute(\"href\")\n",
        "        DA0_name=result.find_element(By.TAG_NAME,\"h3\").text\n",
        "        data_communities.append({\"DAO\":DA0_name,\"link\":DA0_link})\n"
      ]
    },
    {
      "cell_type": "code",
      "execution_count": null,
      "metadata": {
        "id": "0ZLmpDsKOdLJ"
      },
      "outputs": [],
      "source": [
        "pages=wd.find_elements(By.CSS_SELECTOR,\"li.ant-pagination-item\")\n",
        "page_numbers=[int(page.get_attribute(\"title\")) for page in pages]\n",
        "for page in range(1,max(page_numbers)+1):\n",
        "    print(page)\n",
        "    wd.get(\"https://app.dework.xyz/?page=\"+str(page))\n",
        "    #wd.find_element(By.CSS_SELECTOR,\"li[title='{}']\".format(page))\n",
        "    collections=wd.find_elements(By.CLASS_NAME,\"ant-table-row\")\n",
        "    collections_to_dic(collections)\n",
        "            "
      ]
    },
    {
      "cell_type": "code",
      "execution_count": null,
      "metadata": {
        "id": "bY0DlChOOdLK"
      },
      "outputs": [],
      "source": [
        "for i in data_communities:\n",
        "    try:\n",
        "      i['task_id'].remove(\"TODO:default\")\n",
        "    except:\n",
        "      pass \n",
        "    try:\n",
        "       i['task_id'].remove(\"IN_PROGRESS:default\")\n",
        "    except:\n",
        "       pass \n",
        "    try:\n",
        "       i['task_id'].remove(\"DONE:default\")\n",
        "    except:\n",
        "    try:\n",
        "       i['task_id'].remove(\"DONE:default\")\n",
        "      pass "
      ]
    },
    {
      "cell_type": "code",
      "execution_count": null,
      "metadata": {
        "id": "QLFT14VVOdLL"
      },
      "outputs": [],
      "source": [
        "#to collect the tasks iD\n",
        "wd.implicitly_wait(40)\n",
        "for DAO in data_communities:\n",
        "     print(DAO[\"DAO\"])\n",
        "     wd.get(DAO[\"link\"]+\"/board\")\n",
        "     scroll_screens=wd.find_elements(By.CSS_SELECTOR,\"div.ReactVirtualized__Grid\")\n",
        "     #scroll_horizontal=wd.find_element(By.CSS_SELECTOR,\"div.ant-row.dewo-task-board\")\n",
        "     DAO[\"task_id\"]=[0]\n",
        "     for idx,table in enumerate(wd.find_elements(By.CSS_SELECTOR,\".ReactVirtualized__Grid__innerScrollContainer\")):\n",
        "          while True:\n",
        "              add=0\n",
        "              tasks=table.find_elements(By.CSS_SELECTOR,\"div[style^='height:']\")\n",
        "              \n",
        "              for task in tasks:\n",
        "                          try:\n",
        "                            id=task.get_attribute(\"data-rbd-draggable-id\")\n",
        "                          except:\n",
        "                            id=0\n",
        "                          if id not in DAO[\"task_id\"]:\n",
        "                                    DAO[\"task_id\"].append(id)\n",
        "                                    add+=1\n",
        "              try:\n",
        "                scroll_screens[idx].send_keys(Keys.PAGE_DOWN)\n",
        "              except:\n",
        "                pass\n",
        "              sleep(3)\n",
        "              tables=wd.find_elements(By.CSS_SELECTOR,\".ReactVirtualized__Grid__innerScrollContainer\")\n",
        "              table=tables[idx]\n",
        "              if add==0:\n",
        "                  scroll_screens=wd.find_elements(By.CSS_SELECTOR,\"div.ReactVirtualized__Grid\")\n",
        "                  if idx==len(tables)-2:\n",
        "                          sleep(3)\n",
        "                          wd.execute_script(\"\"\"\n",
        "                          var elements = document.querySelectorAll('.ant-space-item');\n",
        "                          elements[elements.length-1].scrollIntoView();\n",
        "                                                                         \"\"\")\n",
        "                  #scroll_horizontal.send_keys(Keys.PAGE_DOWN)\n",
        "                  break \n",
        "     print(len(DAO[\"task_id\"]))\n",
        "    \n"
      ]
    },
    {
      "cell_type": "code",
      "execution_count": null,
      "metadata": {
        "id": "9jf4zLNSOdLM"
      },
      "outputs": [],
      "source": [
        "remove_list=[0,'TODO:default','IN_PROGRESS:default',\"IN_REVIEW:default\",None,\"DONE:paid\",\"DONE:processing-payment\",\"DONE:needs_payment\",\"DONE:needs-payment\"]\n",
        "DOA_without_tasks=[]\n",
        "for i in data_communities:\n",
        "    if \"task_id\" in i.keys():\n",
        "         for id in i[\"task_id\"]:\n",
        "                 if id in remove_list:\n",
        "                         i[\"task_id\"].remove(id)\n",
        "         if len(i[\"task_id\"])==0:\n",
        "                 del i[\"task_id\"]\n",
        "                 DOA_without_tasks.append(i[\"DAO\"])\n",
        "                 \n",
        "         \n",
        "                         \n",
        "       "
      ]
    },
    {
      "cell_type": "code",
      "execution_count": null,
      "metadata": {
        "id": "7B3Tkx03OdLM"
      },
      "outputs": [],
      "source": [
        "remove_list=[0,'TODO:default','IN_PROGRESS:default',\"IN_REVIEW:default\",None,\"DONE:paid\",\"DONE:processing-payment\",\"DONE:needs_payment\",\"DONE:needs-payment\",\"DONE:default\"]\n",
        "DOA_without_tasks=[]\n",
        "for i in dic_task_id:\n",
        "    if \"task_id\" in i.keys():\n",
        "         for id in i[\"task_id\"]:\n",
        "                 if id in remove_list:\n",
        "                         i[\"task_id\"].remove(id)\n",
        "         if len(i[\"task_id\"])==0:\n",
        "                 del i[\"task_id\"]\n",
        "                 DOA_without_tasks.append(i[\"DAO\"])"
      ]
    },
    {
      "cell_type": "code",
      "execution_count": null,
      "metadata": {
        "id": "V4ZrXba5OdLN",
        "outputId": "70d16bb1-c0f8-4059-ebc1-2e92be934fbb"
      },
      "outputs": [],
      "source": [
        "DOA_without_tasks\n",
        "dic_task_id=[i for i in data_communities if \"task_id\" in i.keys()]"
      ]
    },
    {
      "cell_type": "code",
      "execution_count": null,
      "metadata": {
        "id": "nPaIC032OdLN",
        "outputId": "a1d8a1ff-6d26-4aef-baf0-a8b456d2ba42"
      },
      "outputs": [],
      "source": [
        "print(dic_task_id)\n",
        "sum([len(i['task_id']) for i in dic_task_id])"
      ]
    },
    {
      "cell_type": "code",
      "execution_count": null,
      "metadata": {
        "id": "prmSOC7KOdLN",
        "outputId": "c150c479-463e-4d28-bfac-fde8e1bb8f98"
      },
      "outputs": [],
      "source": [
        "for doa in dic_task_id:\n",
        "    print(len(doa['task_id']))\n",
        "    print(doa['task_id'])\n",
        "    for i in doa['task_id']:\n",
        "        if i in remove_list:\n",
        "            doa['task_id'].remove(i)\n",
        "        if len(i)<20:\n",
        "            print(i)\n",
        "            doa['task_id'].remove(i)\n"
      ]
    },
    {
      "cell_type": "code",
      "execution_count": null,
      "metadata": {
        "id": "ssfcmGfwOdLN",
        "outputId": "086454db-7b8a-43bc-f718-b424323070f7"
      },
      "outputs": [],
      "source": [
        "print([i['task_id'] for i in dic_task_id])"
      ]
    },
    {
      "cell_type": "code",
      "execution_count": 2,
      "metadata": {
        "id": "7yr4ymcGOdLO"
      },
      "outputs": [],
      "source": [
        "#!pip install openpyxl\n",
        "a=pd.read_csv(\"id.csv\")\n",
        "a[\"task_id\"]=a[\"task_id\"].map(lambda a:a.lstrip(\"['\").rstrip(\"']\"))\n",
        "dic_task_id=a.to_dict(\"records\")"
      ]
    },
    {
      "cell_type": "code",
      "execution_count": 3,
      "metadata": {
        "id": "6-djHZWiOdLO",
        "outputId": "94b6919a-837e-4f81-bbee-5b40f8294807"
      },
      "outputs": [],
      "source": [
        "#for data in dic_task_id:\n",
        "      #data[\"task_id\"]=data[\"task_id\"].replace(\"['\",\"\")\n",
        "      #data[\"task_id\"]=data[\"task_id\"].replace(\"']\",\"\")\n",
        "for data in dic_task_id:\n",
        "       data[\"task_id\"]=data[\"task_id\"].split(\",\")\n",
        "       #for i in data[\"task_id\"]:\n",
        "              #i=i.replace(\" \",\"\")\n",
        "              #i=i.replace(\"'\",\"\")\n",
        "              #print(i)\n",
        "              \n",
        "       #print(data[\"task_id\"])\n"
      ]
    },
    {
      "cell_type": "code",
      "execution_count": 4,
      "metadata": {
        "id": "kZluw8lQOdLO"
      },
      "outputs": [],
      "source": [
        "new=[]\n",
        "for data in dic_task_id:\n",
        "     new_data={}\n",
        "     new_data[\"DAO\"]=data[\"DAO\"]\n",
        "     new_data[\"task_id\"]=[]\n",
        "     for i in data[\"task_id\"]:\n",
        "          new_data[\"task_id\"].append(i.lstrip(\" '\").rstrip(\"'\"))\n",
        "     new_data[\"link\"]=data[\"link\"]\n",
        "     new.append(new_data)"
      ]
    },
    {
      "cell_type": "code",
      "execution_count": 5,
      "metadata": {
        "id": "AV-FLO3YOdLP"
      },
      "outputs": [],
      "source": [
        "remove_list=[0,'TODO:default','IN_PROGRESS:default',\"IN_REVIEW:default\",None,\"DONE:paid\",\"DONE:processing-payment\",\"DONE:needs_payment\",\"DONE:needs-payment\",\"DONE:default\"]\n",
        "for doa in new:\n",
        "  for i in doa['task_id']:\n",
        "        if i in remove_list:\n",
        "            doa['task_id'].remove(i)\n",
        "        "
      ]
    },
    {
      "cell_type": "code",
      "execution_count": 6,
      "metadata": {},
      "outputs": [],
      "source": [
        "for i in new:\n",
        "    if i[\"DAO\"]==\"Kukuza\":\n",
        "       IND=new.index(i)\n",
        "       IND_2=i[\"task_id\"].index(\"fec8cb43-105c-4060-9652-449ffdd532d2\")\n",
        "    "
      ]
    },
    {
      "cell_type": "code",
      "execution_count": null,
      "metadata": {},
      "outputs": [],
      "source": [
        "import json\n",
        "#import multiprocessing\n",
        "from selenium.common.exceptions import TimeoutException\n",
        "from multiprocessing import Pool, cpu_count\n",
        "import threading \n",
        "#Diamante Luz\n",
        "tasks=[]\n",
        "class ScrapeThread(threading.Thread):\n",
        "    def __init__(self, url):\n",
        "        threading.Thread.__init__(self)\n",
        "        self.url = url\n",
        "  \n",
        "    def run(self):\n",
        "        print(\"start\")\n",
        "        wd=webdriver.Chrome(options=options)\n",
        "        wd.maximize_window()\n",
        "        wd.get(self.url)\n",
        "        try:\n",
        "           WebDriverWait(wd, timeout=40).until(EC.presence_of_element_located((By.CSS_SELECTOR,\"div.mb-7\")))\n",
        "        except TimeoutException:\n",
        "           print(self.url)\n",
        "        try:DAO=wd.find_element(By.CSS_SELECTOR,\"a.ant-breadcrumb-link\").get_property(\"innerText\")\n",
        "        except:DAO=None \n",
        "        try:labels=wd.find_element(By.CSS_SELECTOR,\"div.ant-row[style='column-gap: 8px;']\").get_property(\"innerText\")\n",
        "        except:labels=None\n",
        "        try:task_title=wd.find_element(By.CSS_SELECTOR,\"div.ant-form-item-control-input textarea#Task\\ Form\\ \\(update\\)_name\").get_property(\"textContent\")\n",
        "        except:task_title=None\n",
        "        try:due_date=wd.find_element(By.CSS_SELECTOR,\"span.ant-tag:has(> span.anticon-calendar[role='img'][aria-label='calendar'])\").get_property(\"innerText\")\n",
        "        except:due_date=None\n",
        "        try:wd.find_element(By.CSS_SELECTOR,\"div.mb-7 button strong\").click()\n",
        "        except:pass\n",
        "        try:task_description=wd.find_element(By.CSS_SELECTOR,\"div.mb-7\").get_property(\"innerText\")\n",
        "        except:task_description=None\n",
        "        #priority=wd.find_element(By.CSS_SELECTOR,\"div.ant-row.ant-form-item.has(> label[for='Task Form (update)_priority'])*::text\")\n",
        "        #priority=None \n",
        "        task_activities=wd.find_elements(By.CSS_SELECTOR,\"div.ant-timeline-item-content div.ant-row.ant-row-middle[role='row']\")\n",
        "        activities=[]\n",
        "        time_stamps=[]\n",
        "        try:bounties=wd.find_element(By.CSS_SELECTOR,\"span.ant-tag[style='background-color: white; color: black; min-width: 0px; overflow: hidden; text-overflow: ellipsis;']\").get_property(\"innerText\")\n",
        "        except: bounties=None\n",
        "      \n",
        "         \n",
        "        try:reviwers=wd.find_element(By.CSS_SELECTOR,\"div.ant-row.ant-form-item:has( label[for='Task Form (update)_ownerIds'])\").find_element(By.CSS_SELECTOR,\"div:nth-child(2)\").get_property(\"innerText\")   \n",
        "        except:reviwers=None \n",
        "        try:priority=wd.find_element(By.CSS_SELECTOR,\"div.ant-row.ant-form-item:has( label[for='Task Form (update)_priority'])\").find_element(By.CSS_SELECTOR,\"div:nth-child(2)\").get_property(\"innerText\")\n",
        "        except:priority=None  \n",
        "        try:activity_comments=[i.text for i in wd.find_elements(By.CSS_SELECTOR,\"div.ant-timeline-item-content div.ProseMirror[role='textbox'][contenteditable='false'] > p\")]\n",
        "        except:activity_comments=None\n",
        "        for activity in task_activities:\n",
        "                                 #print(activity.text+\"/\")\n",
        "            try:activities.append(activity.find_element(By.CLASS_NAME,\"ant-typography\").get_property(\"innerText\"))\n",
        "            except:pass\n",
        "            try:time_stamps.append(activity.find_element(By.CLASS_NAME,\"ant-typography-secondary\").get_property(\"innerText\"))\n",
        "            except:pass\n",
        "        try:subtasks=[i.get_property(\"innerText\") for i in wd.find_elements(By.CSS_SELECTOR,\"td.ant-table-cell.w-full > div.ant-typography\")]\n",
        "        except:subtasks=None \n",
        "        try:subtasks_id=[i.get_attribute(\"data-row-key\") for i in wd.find_elements(By.CSS_SELECTOR,\"tbody.ant-table-tbody > tr[data-row-key][index]\")]\n",
        "        except:subtasks_id=None\n",
        "        try: tags=[i.find_element(By.CSS_SELECTOR,\"span.ant-tag\").get_property(\"innerText\") for i in wd.find_elements(By.CSS_SELECTOR,\"div.ant-select-selection-overflow-item > span\")]\n",
        "        except:tags=None\n",
        "        tasks.append({\"due_date\":due_date,\"activity_comments\":activity_comments,\"link\":self.url,\"labels\":labels,\"tags\":tags,\"subtasks_id\":subtasks_id,\"reviewers\":reviwers,\"DAO\":DAO,\"time_stamps\":time_stamps,\"activities\": activities,\"subtasks\":subtasks,\"priority\":priority,\"task_title\":task_title,\"task_description\":task_description,\"subtasks\":subtasks,\"bounties\":bounties})\n",
        "        print(\"success\")\n",
        "        wd.close()\n",
        "def batch_indices(links,size=10):\n",
        "     if len(links)<size:\n",
        "          return([0])\n",
        "     else:\n",
        "          return(range(0,len(links),size))\n",
        "     \n",
        "    \n",
        "processing_size=5\n",
        "Number=0\n",
        "for DAO in new[IND:]:\n",
        "          print(DAO[\"DAO\"])\n",
        "          if DAO[\"DAO\"]==\"Kukuza\":\n",
        "               lists=batch_indices(DAO[\"task_id\"][IND_2],processing_size)\n",
        "          else:\n",
        "               lists=batch_indices(DAO[\"task_id\"],processing_size)\n",
        "          for i in lists:\n",
        "               if i+processing_size<len(DAO[\"task_id\"]):\n",
        "                       links=DAO[\"task_id\"][i:i+processing_size]\n",
        "               else:\n",
        "                       links=DAO[\"task_id\"][i:]\n",
        "               threads = []\n",
        "               tasks=[]    \n",
        "               for link in links:\n",
        "                       url=DAO[\"link\"]+\"/board?taskId=\"+link\n",
        "                       t = ScrapeThread(url)\n",
        "                       t.start()\n",
        "                       threads.append(t)\n",
        "  \n",
        "               for t in threads:\n",
        "                       t.join()\n",
        "               Number=Number+len(tasks)\n",
        "               #print(\"percentage_done:{}\".format(Number/len(urls)))\n",
        "               with open('data.json', 'a') as f:\n",
        "                       json.dump(tasks, f)\n",
        "                       f.close()\n",
        "          \n",
        "         \n",
        "\n",
        "        \n",
        "          "
      ]
    },
    {
      "cell_type": "code",
      "execution_count": null,
      "metadata": {},
      "outputs": [],
      "source": [
        "wd.find_element(By.CSS_SELECTOR,\"div.ant-row.ant-form-item:has( label[for='Task Form (update)_ownerIds'])\").find_element(By.CSS_SELECTOR,\"div:nth-child(2)\").get_attribute(\"textContent\")"
      ]
    },
    {
      "cell_type": "code",
      "execution_count": null,
      "metadata": {},
      "outputs": [],
      "source": [
        "wd.get(\"https://app.dework.xyz/nation3/board?taskId=92d1288a-c60c-4547-93c0-f724e7edd81c\")\n",
        "try:wd.find_elements(By.CSS_SELECTOR,\"div.mb-7 button strong\").click()\n",
        "except:pass\n",
        "print(wd.find_element(By.CSS_SELECTOR,\"div.mb-7\").get_property(\"innerText\"))"
      ]
    },
    {
      "cell_type": "code",
      "execution_count": null,
      "metadata": {
        "id": "TcE--RbvOdLQ"
      },
      "outputs": [],
      "source": [
        "dic_task_id\n",
        "df=pd.DataFrame.from_records(dic_task_id)\n",
        "df.to_csv(\"id.csv\")"
      ]
    },
    {
      "cell_type": "code",
      "execution_count": null,
      "metadata": {},
      "outputs": [],
      "source": [
        "list(tasks[0].keys())"
      ]
    },
    {
      "cell_type": "code",
      "execution_count": null,
      "metadata": {
        "id": "j2Jl337AOdLQ",
        "outputId": "6a8bc7e0-94e7-4aca-81d8-882e05ed49b4"
      },
      "outputs": [],
      "source": [
        "#get the data \n",
        "data=pd.read_csv(\"data.csv\",low_memory=False)\n",
        "data.columns=list(tasks[0].keys())\n",
        "data=data.drop_duplicates()"
      ]
    },
    {
      "cell_type": "code",
      "execution_count": null,
      "metadata": {},
      "outputs": [],
      "source": [
        "        \n",
        "        webdriver.Chrome(options=options)\n",
        "        wd.maximize_window()\n",
        "        wd.implicitly_wait(40)\n",
        "        wd.get(self.url)\n",
        "        print(self.url)\n",
        "        try:labels=wd.find_element(By.CSS_SELECTOR,\"div.ant-row[style='column-gap: 8px;']\").get_attribute(\"innerHTML\")\n",
        "        except:labels=None\n",
        "        try:task_title=wd.find_element(By.CSS_SELECTOR,\"div.ant-form-item-control-input #Task\\ Form\\ \\(update\\)_name\").get_attribute(\"textContent\")\n",
        "        except:task_title=None\n",
        "        try:wd.find_elements(By.CSS_SELECTOR,\"div.mb-7 > div[class^='ViewMoreContainer']+button\").click()\n",
        "        except:pass\n",
        "        try:task_description=wd.find_element(By.CSS_SELECTOR,\"div.mb-7\").get_attirbute(\"textContent\")\n",
        "        except:task_description=None\n",
        "        #priority=wd.find_element(By.CSS_SELECTOR,\"div.ant-row.ant-form-item.has(> label[for='Task Form (update)_priority'])*::text\")\n",
        "        #priority=None \n",
        "        task_activities=wd.find_elements(By.CSS_SELECTOR,\"div.ant-timeline-item-content div.ant-row.ant-row-middle[role='row']\")\n",
        "        activities=[]\n",
        "        time_stamps=[]\n",
        "        try:bounties=wd.find_element(By.CSS_SELECTOR,\"span.ant-tag[style='background-color: white; color: black; min-width: 0px; overflow: hidden; text-overflow: ellipsis;']\").get_attribute(\"textContent\")\n",
        "        except: bounties=None\n",
        "      \n",
        "         \n",
        "        try:reviwers=wd.find_element(By.CSS_SELECTOR,\"div.ant-row.ant-form-item:has( label[for='Task Form (update)_ownerIds'])\").find_element(By.CSS_SELECTOR,\"div:nth-child(2)\").get_attribute(\"textContent\")   \n",
        "        except:reviwers=None \n",
        "        try:priority=wd.find_element(By.CSS_SELECTOR,\"div.ant-row.ant-form-item:has( label[for='Task Form (update)_priority'])\").find_element(By.CSS_SELECTOR,\"div:nth-child(2)\").get_attribute(\"textContent\")\n",
        "        except:priority=None  \n",
        "        try:activity_comments=[i.text for i in wd.find_elements(By.CSS_SELECTOR,\"div.ant-timeline-item-content div.ProseMirror[role='textbox'][contenteditable='false'] > p\")]\n",
        "        except:activity_comments=None\n",
        "        for activity in task_activities:\n",
        "                                 #print(activity.text+\"/\")\n",
        "            try:activities.append(activity.find_element(By.CLASS_NAME,\"ant-typography\").get_attribute(\"textContent\"))\n",
        "            except:pass\n",
        "            try:time_stamps.append(activity.find_element(By.CLASS_NAME,\"ant-typography-secondary\").get_attribute(\"textContent\"))\n",
        "            except:pass\n",
        "        try:subtasks=[i.get_attribute(\"textContent\") for i in wd.find_elements(By.CSS_SELECTOR,\"td.ant-table-cell.w-full > div.ant-typography\")]\n",
        "        except:subtasks=None \n",
        "        try:subtasks_id=[i.get_attribute(\"data-row-key\") for i in wd.find_elements(By.CSS_SELECTOR,\"tbody.ant-table-tbody > tr[data-row-key][index]\")]\n",
        "        except:subtasks_id=None\n",
        "        try: tags=[i.find_element(By.CSS_SELECTOR,\"span.ant-tag\").get_attribute(\"textContent\") for i in wd.find_elements(By.CSS_SELECTOR,\"div.ant-select-selection-overflow-item > span\")]\n",
        "        except:tags=None\n",
        "        tasks.append({\"activity_comments\":activity_comments,\"link\":self.url,\"labels\":labels,\"tags\":tags,\"subtasks_id\":subtasks_id,\"reviewers\":reviwers,\"DAO\":DAO[\"DAO\"],\"time_stamps\":time_stamps,\"activities\": activities,\"subtasks\":subtasks,\"priority\":priority,\"task_title\":task_title,\"task_description\":task_description,\"subtasks\":subtasks,\"bounties\":bounties})\n",
        "        wd.close()"
      ]
    },
    {
      "cell_type": "code",
      "execution_count": null,
      "metadata": {},
      "outputs": [],
      "source": [
        "data.head(10)"
      ]
    }
  ],
  "metadata": {
    "colab": {
      "provenance": []
    },
    "kernelspec": {
      "display_name": "base",
      "language": "python",
      "name": "python3"
    },
    "language_info": {
      "codemirror_mode": {
        "name": "ipython",
        "version": 3
      },
      "file_extension": ".py",
      "mimetype": "text/x-python",
      "name": "python",
      "nbconvert_exporter": "python",
      "pygments_lexer": "ipython3",
      "version": "3.9.13"
    },
    "orig_nbformat": 4
  },
  "nbformat": 4,
  "nbformat_minor": 0
}
