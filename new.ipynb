{
 "cells": [
  {
   "cell_type": "code",
   "execution_count": 528,
   "metadata": {},
   "outputs": [],
   "source": [
    "import pandas as pd \n",
    "data=pd.read_csv(r'C:\\Users\\x2125\\Desktop\\data.csv')"
   ]
  },
  {
   "cell_type": "code",
   "execution_count": 529,
   "metadata": {},
   "outputs": [],
   "source": [
    "import re\n",
    "data['creator']=data['creator'].apply(lambda a: re.findall(\"'username': (\\S+),\",str(a))).apply(lambda x:x[0].lower() if len(x)>0 else '')\n",
    "data['tags']=data['tags'].apply(lambda a: re.findall(\"'label': (\\S+),\",str(a))).apply(lambda x:','.join(x).lower() if len(x)>0 else '')\n",
    "data['skills']=data.skills.apply(lambda a: re.findall(\"'name': (\\S+),\",str(a))).apply(lambda x:','.join(x).lower() if len(x)>0 else '')\n",
    "data['assignees']=data['assignees'].apply(lambda a: re.findall(\"'username': (\\S+),\",str(a))).apply(lambda x:x[0].lower() if len(x)>0 else '')\n",
    "data['time_change_status']=data['auditlog'].apply(lambda x: re.findall(\"createdAt': ([^ ]+), 'user': {'__ref': '[^ ]+'}, 'sessionId': [^ ]+ 'diff': \\[{'kind': 'E', 'path': \\['status'\\], 'lhs': [^ ]+, 'rhs': ([^ ]+)\",x))"
   ]
  },
  {
   "cell_type": "code",
   "execution_count": 530,
   "metadata": {},
   "outputs": [],
   "source": [
    "data['initial_status']=data['auditlog'].apply(lambda x: re.findall(\"'kind': 'N', 'rhs': {'status': '([^ ]+)'}\",x)).apply(str).str.replace(']','').str.replace('[','')"
   ]
  },
  {
   "cell_type": "code",
   "execution_count": 531,
   "metadata": {},
   "outputs": [],
   "source": [
    "columns=list(data.columns)\n",
    "columns.extend(['time_stamp','status'])"
   ]
  },
  {
   "cell_type": "code",
   "execution_count": 554,
   "metadata": {},
   "outputs": [],
   "source": [
    "new_rows=[]\n",
    "for row in data.values.tolist():\n",
    "           a=[]\n",
    "           a.extend(row)\n",
    "           a.extend([row[-8],'CREATED'])\n",
    "           new_rows.append(a)\n",
    "           #b=row \n",
    "           #b.append(row[-8])\n",
    "           #b.append(row[-1])\n",
    "           #new_rows.append(b)\n",
    "           for j in row[-2]:\n",
    "                       b=[]\n",
    "                       b.extend(row)\n",
    "                       b.extend([j[0],j[-1]])\n",
    "                       new_rows.append(b)\n",
    "                   \n",
    "        "
   ]
  },
  {
   "cell_type": "code",
   "execution_count": 647,
   "metadata": {},
   "outputs": [],
   "source": [
    "pdd=pd.DataFrame(new_rows,columns=columns)"
   ]
  },
  {
   "cell_type": "code",
   "execution_count": 648,
   "metadata": {},
   "outputs": [],
   "source": [
    "pdd['time_stamp']=pdd['time_stamp'].apply(pd.to_datetime)"
   ]
  },
  {
   "cell_type": "code",
   "execution_count": null,
   "metadata": {},
   "outputs": [],
   "source": [
    "pdd.sort_values(by=['id','time_stamp'])"
   ]
  },
  {
   "cell_type": "code",
   "execution_count": 650,
   "metadata": {},
   "outputs": [],
   "source": [
    "pdd['amount']=pdd['rewards-2'].apply(lambda x:re.findall(\"([0-9]+)', {'__typename':\",str(x)))\n",
    "pdd['amount']=pdd['amount'].apply(lambda x:int(x[0]) if len(x)>0 else '')"
   ]
  },
  {
   "cell_type": "code",
   "execution_count": 687,
   "metadata": {},
   "outputs": [],
   "source": [
    "pdd['exp']=pdd['rewards-2'].apply(lambda x:re.findall(\"'exp': ([0-9]+),\", str(x)))\n",
    "pdd['exp']=pdd['exp'].apply(lambda x:int(x[0]) if len(x)>0 else '' )"
   ]
  },
  {
   "cell_type": "code",
   "execution_count": 688,
   "metadata": {},
   "outputs": [],
   "source": [
    "pdd['dollar_value']=pdd['rewards-2'].apply(lambda x:re.findall(\"'usdPrice': ([^ ]+),\",str(x)))\n",
    "pdd['dollar_value']=pdd['dollar_value'].apply(lambda x:x[0] if len(x)>0 else '' )"
   ]
  },
  {
   "cell_type": "code",
   "execution_count": 689,
   "metadata": {},
   "outputs": [],
   "source": [
    "pdd['dollar_value']=pdd['dollar_value'].apply(lambda x:float(x) if x!=None and x!='' and x!='None' else x)"
   ]
  },
  {
   "cell_type": "code",
   "execution_count": null,
   "metadata": {},
   "outputs": [],
   "source": [
    "pdd['bounty']=0\n",
    "for label,rows in pdd.iterrows():\n",
    "        a=rows['dollar_value']\n",
    "        b=rows['amount']\n",
    "        c=rows['exp']\n",
    "        print(c)\n",
    "        try:\n",
    "          pdd.loc[label,'bounty']=a*b/(10^c)\n",
    "        except:\n",
    "           pass"
   ]
  },
  {
   "cell_type": "code",
   "execution_count": 698,
   "metadata": {},
   "outputs": [],
   "source": [
    "pdd.to_csv('data.csv')"
   ]
  },
  {
   "cell_type": "code",
   "execution_count": null,
   "metadata": {},
   "outputs": [],
   "source": [
    "#get some kpi\n",
    "#what is the task turn over rate "
   ]
  }
 ],
 "metadata": {
  "kernelspec": {
   "display_name": "base",
   "language": "python",
   "name": "python3"
  },
  "language_info": {
   "codemirror_mode": {
    "name": "ipython",
    "version": 3
   },
   "file_extension": ".py",
   "mimetype": "text/x-python",
   "name": "python",
   "nbconvert_exporter": "python",
   "pygments_lexer": "ipython3",
   "version": "3.9.16"
  },
  "orig_nbformat": 4
 },
 "nbformat": 4,
 "nbformat_minor": 2
}
